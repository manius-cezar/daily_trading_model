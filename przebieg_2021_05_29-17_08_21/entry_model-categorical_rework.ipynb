{
 "cells": [
  {
   "cell_type": "code",
   "execution_count": 1,
   "id": "union-ticket",
   "metadata": {},
   "outputs": [],
   "source": [
    "import os, sys\n",
    "import sklearn\n",
    "from sklearn.preprocessing import MinMaxScaler\n",
    "from sklearn.preprocessing import StandardScaler\n",
    "from sklearn.model_selection import StratifiedShuffleSplit\n",
    "from sklearn.linear_model import LinearRegression\n",
    "import tensorflow as tf\n",
    "from tensorflow import keras\n",
    "import numpy as np\n",
    "import matplotlib as mpl\n",
    "import matplotlib.pyplot as plt\n",
    "import json\n",
    "import pandas as pd\n",
    "from sklearn import preprocessing\n",
    "from sklearn.model_selection import train_test_split\n",
    "from shutil import copyfile\n",
    "import seaborn as sns\n",
    "import json\n",
    "\n",
    "mpl.rc('axes', labelsize=14)\n",
    "mpl.rc('xtick', labelsize=12)\n",
    "mpl.rc('ytick', labelsize=12)\n",
    "plt.rcParams[\"figure.figsize\"] = (20,3)\n",
    "\n",
    "np.random.seed(42)\n",
    "tf.random.set_seed(42)\n",
    "\n",
    "# Below code is for enabling only particular GPU cards.\n",
    "# Testing machine contained in total 6 GPUs, but for training only 5 of them were used.\n",
    "# If your testing set contains less or one card, you need to change it accordingly.\n",
    "physical_devices = tf.config.list_physical_devices('GPU')\n",
    "tf.config.set_visible_devices([physical_devices[1], physical_devices[2], physical_devices[3], physical_devices[4], physical_devices[5]], 'GPU')"
   ]
  },
  {
   "cell_type": "code",
   "execution_count": 2,
   "id": "proof-michigan",
   "metadata": {},
   "outputs": [],
   "source": [
    "data_dir = '../data'"
   ]
  },
  {
   "cell_type": "code",
   "execution_count": 3,
   "id": "strong-foster",
   "metadata": {},
   "outputs": [],
   "source": [
    "historic_data_in_minibatch = 250"
   ]
  },
  {
   "cell_type": "code",
   "execution_count": 4,
   "id": "median-engineering",
   "metadata": {},
   "outputs": [
    {
     "data": {
      "text/plain": [
       "18"
      ]
     },
     "execution_count": 4,
     "metadata": {},
     "output_type": "execute_result"
    }
   ],
   "source": [
    "ema_lengths = [3, 5, 8, 9, 10, 13, 20, 21, 26, 34, 50, 55, 89, 100, 144, 200, 233, historic_data_in_minibatch]\n",
    "len(ema_lengths)"
   ]
  },
  {
   "cell_type": "markdown",
   "id": "latin-brass",
   "metadata": {},
   "source": [
    "# Data loading"
   ]
  },
  {
   "cell_type": "code",
   "execution_count": 9,
   "id": "conventional-malaysia",
   "metadata": {},
   "outputs": [],
   "source": [
    "# Loading data from already prepared datasets\n",
    "X_train, y_train = (\n",
    "    np.load(os.path.join(data_dir, 'X_train_shuffled_with_mean_model.npz')), \n",
    "    np.load(os.path.join(data_dir, 'y_train_shuffled_with_mean_model.npz')))\n",
    "X_train, y_train = X_train['arr_0'], y_train['arr_0']\n",
    "\n",
    "X_valid, y_valid = (\n",
    "    np.load(os.path.join(data_dir, 'X_valid_shuffled_with_mean_model.npz')), \n",
    "    np.load(os.path.join(data_dir, 'y_valid_shuffled_with_mean_model.npz')))\n",
    "X_valid, y_valid = X_valid['arr_0'], y_valid['arr_0']\n",
    "\n",
    "X_test, y_test = (\n",
    "    np.load(os.path.join(data_dir, 'X_test_shuffled_with_mean_model.npz')), \n",
    "    np.load(os.path.join(data_dir, 'y_test_shuffled_with_mean_model.npz')))\n",
    "X_test, y_test = X_test['arr_0'], y_test['arr_0']"
   ]
  },
  {
   "cell_type": "code",
   "execution_count": 10,
   "id": "fourth-lewis",
   "metadata": {},
   "outputs": [],
   "source": [
    "X_train = X_train.reshape((X_train.shape[0]), X_train.shape[1])\n",
    "X_test = X_test.reshape((X_test.shape[0]), X_test.shape[1])\n",
    "X_valid = X_valid.reshape((X_valid.shape[0]), X_valid.shape[1])"
   ]
  },
  {
   "cell_type": "markdown",
   "id": "legal-guitar",
   "metadata": {},
   "source": [
    "## Data scaling"
   ]
  },
  {
   "cell_type": "code",
   "execution_count": 11,
   "id": "major-deviation",
   "metadata": {},
   "outputs": [],
   "source": [
    "from pickle import dump\n",
    "\n",
    "scaler = StandardScaler()\n",
    "X_train = scaler.fit_transform(X_train)\n",
    "X_valid = scaler.transform(X_valid)\n",
    "X_test = scaler.transform(X_test)\n",
    "\n",
    "dump(scaler, open('input_scaler_with_ema_shuffled.pkl', 'wb'))"
   ]
  },
  {
   "cell_type": "code",
   "execution_count": 12,
   "id": "mysterious-emergency",
   "metadata": {},
   "outputs": [],
   "source": [
    "X_train = X_train.reshape((X_train.shape[0]), X_train.shape[1], 1)\n",
    "X_test = X_test.reshape((X_test.shape[0]), X_test.shape[1], 1)\n",
    "X_valid = X_valid.reshape((X_valid.shape[0]), X_valid.shape[1], 1)"
   ]
  },
  {
   "cell_type": "code",
   "execution_count": 14,
   "id": "familiar-boutique",
   "metadata": {},
   "outputs": [],
   "source": [
    "features_number = X_train.shape[1]"
   ]
  },
  {
   "cell_type": "markdown",
   "id": "danish-soundtrack",
   "metadata": {},
   "source": [
    "## Split for two model inputs"
   ]
  },
  {
   "cell_type": "code",
   "execution_count": 15,
   "id": "consolidated-hands",
   "metadata": {},
   "outputs": [],
   "source": [
    "X_train_CNN, X_train_Dense = X_train[:, :historic_data_in_minibatch, :], X_train[:, historic_data_in_minibatch:, :] \n",
    "X_test_CNN, X_test_Dense = X_test[:, :historic_data_in_minibatch, :], X_test[:, historic_data_in_minibatch:, :] \n",
    "X_valid_CNN, X_valid_Dense = X_valid[:, :historic_data_in_minibatch, :], X_valid[:, historic_data_in_minibatch:, :] "
   ]
  },
  {
   "cell_type": "code",
   "execution_count": 18,
   "id": "interested-lecture",
   "metadata": {},
   "outputs": [
    {
     "data": {
      "text/plain": [
       "(443010, 128616, 64465)"
      ]
     },
     "execution_count": 18,
     "metadata": {},
     "output_type": "execute_result"
    }
   ],
   "source": [
    "len(y_train), len(y_valid), len(y_test)"
   ]
  },
  {
   "cell_type": "markdown",
   "id": "collect-breakdown",
   "metadata": {},
   "source": [
    "# y categorization"
   ]
  },
  {
   "cell_type": "code",
   "execution_count": 20,
   "id": "interesting-pickup",
   "metadata": {},
   "outputs": [
    {
     "name": "stdout",
     "output_type": "stream",
     "text": [
      "Positive %: 0.04737364845037358\n",
      "Negative %: 0.9526263515496264\n"
     ]
    }
   ],
   "source": [
    "one_ids = np.where(y_train >= 0.9)\n",
    "zero_ids = np.where(y_train < 0.9)\n",
    "\n",
    "y_train[one_ids[0], one_ids[1]] = 1\n",
    "y_train[zero_ids[0], zero_ids[1]] = 0\n",
    "\n",
    "ones, zeroes = len(one_ids[0]), len(zero_ids[0])\n",
    "print(f'Positive %: {ones / (ones + zeroes)}')\n",
    "print(f'Negative %: {1 - (ones / (ones + zeroes))}')\n",
    "\n",
    "y_train = y_train.astype(np.int)"
   ]
  },
  {
   "cell_type": "code",
   "execution_count": 21,
   "id": "romance-sheep",
   "metadata": {},
   "outputs": [
    {
     "name": "stdout",
     "output_type": "stream",
     "text": [
      "Positive %: 0.062239534739068236\n",
      "Negative %: 0.9377604652609317\n"
     ]
    }
   ],
   "source": [
    "one_ids = np.where(y_valid >= 0.9)\n",
    "zero_ids = np.where(y_valid < 0.9)\n",
    "\n",
    "y_valid[one_ids[0], one_ids[1]] = 1\n",
    "y_valid[zero_ids[0], zero_ids[1]] = 0\n",
    "\n",
    "ones, zeroes = len(one_ids[0]), len(zero_ids[0])\n",
    "print(f'Positive %: {ones / (ones + zeroes)}')\n",
    "print(f'Negative %: {1 - (ones / (ones + zeroes))}')\n",
    "\n",
    "y_valid = y_valid.astype(np.int)"
   ]
  },
  {
   "cell_type": "code",
   "execution_count": 22,
   "id": "impressive-feeding",
   "metadata": {},
   "outputs": [
    {
     "name": "stdout",
     "output_type": "stream",
     "text": [
      "Positive %: 0.05826417435817886\n",
      "Negative %: 0.9417358256418211\n"
     ]
    }
   ],
   "source": [
    "one_ids = np.where(y_test >= 0.9)\n",
    "zero_ids = np.where(y_test < 0.9)\n",
    "\n",
    "y_test[one_ids[0], one_ids[1]] = 1\n",
    "y_test[zero_ids[0], zero_ids[1]] = 0\n",
    "\n",
    "ones, zeroes = len(one_ids[0]), len(zero_ids[0])\n",
    "print(f'Positive %: {ones / (ones + zeroes)}')\n",
    "print(f'Negative %: {1 - (ones / (ones + zeroes))}')\n",
    "\n",
    "y_test = y_test.astype(np.int)"
   ]
  },
  {
   "cell_type": "code",
   "execution_count": 23,
   "id": "qualified-timer",
   "metadata": {},
   "outputs": [
    {
     "name": "stdout",
     "output_type": "stream",
     "text": [
      "Positive %: 0.05148319973085612\n",
      "Negative %: 0.9485168002691439\n",
      "Label 0: 603343\n",
      "Label 1: 32748\n"
     ]
    }
   ],
   "source": [
    "y_all = np.concatenate((y_train, y_valid, y_test))\n",
    "temp = np.copy(y_all)\n",
    "temp.shape\n",
    "\n",
    "one_ids = np.where(temp >= 0.9)\n",
    "zero_ids = np.where(temp < 0.9)\n",
    "\n",
    "temp[one_ids[0], one_ids[1]] = 1\n",
    "temp[zero_ids[0], zero_ids[1]] = 0\n",
    "\n",
    "ones, zeroes = len(one_ids[0]), len(zero_ids[0])\n",
    "print(f'Positive %: {ones / (ones + zeroes)}')\n",
    "print(f'Negative %: {1 - (ones / (ones + zeroes))}')\n",
    "\n",
    "unique, counts = np.unique(y_all, return_counts=True)\n",
    "for val, qty in zip(unique, counts):\n",
    "    print(f'Label {val}: {qty}')"
   ]
  },
  {
   "cell_type": "code",
   "execution_count": 24,
   "id": "bridal-throat",
   "metadata": {},
   "outputs": [
    {
     "name": "stdout",
     "output_type": "stream",
     "text": [
      "Weight for class 0: 0.53\n",
      "Weight for class 1: 9.71\n"
     ]
    }
   ],
   "source": [
    "neg, pos = np.unique(y_train, return_counts=True)[1]\n",
    "total = neg + pos\n",
    "weight_for_0 = (1 / neg)*(total)/2.0 \n",
    "weight_for_1 = (1 / pos)*(total)/2.0\n",
    "\n",
    "class_weight = {0: weight_for_0, 1: weight_for_1}\n",
    "\n",
    "print('Weight for class 0: {:.2f}'.format(weight_for_0))\n",
    "print('Weight for class 1: {:.2f}'.format(weight_for_1))\n",
    "\n",
    "class_weight = {0: weight_for_0, 1: weight_for_1}"
   ]
  },
  {
   "cell_type": "markdown",
   "id": "sixth-basis",
   "metadata": {},
   "source": [
    "### DS Oversampling\n",
    "Sample code for dataset oversampling do balance it a little bit. After the tests, in this case it didn't bring any improvement for model training, so was commented out."
   ]
  },
  {
   "cell_type": "code",
   "execution_count": 19,
   "id": "opposite-semiconductor",
   "metadata": {},
   "outputs": [],
   "source": [
    "# np.random.seed(42)"
   ]
  },
  {
   "cell_type": "code",
   "execution_count": 1,
   "id": "photographic-faith",
   "metadata": {},
   "outputs": [],
   "source": [
    "# bool_train_labels = np.where(y_train == 1.)[0]\n",
    "# bool_train_labels.shape"
   ]
  },
  {
   "cell_type": "code",
   "execution_count": 21,
   "id": "patent-latter",
   "metadata": {},
   "outputs": [],
   "source": [
    "# pos_features_CNN = X_train_CNN[bool_train_labels, :, :]\n",
    "# pos_features_Dense = X_train_Dense[bool_train_labels, :, :]\n",
    "# neg_features_CNN = X_train_CNN[~bool_train_labels, :, :]\n",
    "# neg_features_Dense = X_train_Dense[~bool_train_labels, :, :]\n",
    "\n",
    "# pos_labels = y_train[bool_train_labels]\n",
    "# neg_labels = y_train[~bool_train_labels]"
   ]
  },
  {
   "cell_type": "code",
   "execution_count": 2,
   "id": "obvious-connecticut",
   "metadata": {},
   "outputs": [],
   "source": [
    "# ids = np.arange(len(pos_features_CNN))\n",
    "# choices = np.random.choice(ids, len(neg_labels))\n",
    "\n",
    "# res_pos_features_CNN = pos_features_CNN[choices]\n",
    "# res_pos_features_Dense = pos_features_Dense[choices]\n",
    "# res_pos_labels = pos_labels[choices]\n",
    "\n",
    "# res_pos_features_CNN.shape, res_pos_features_Dense.shape"
   ]
  },
  {
   "cell_type": "code",
   "execution_count": 3,
   "id": "quantitative-portfolio",
   "metadata": {},
   "outputs": [],
   "source": [
    "# resampled_features_CNN = np.concatenate([res_pos_features_CNN, neg_features_CNN], axis=0)\n",
    "# resampled_features_Dense = np.concatenate([res_pos_features_Dense, neg_features_Dense], axis=0)\n",
    "# resampled_labels = np.concatenate([res_pos_labels, neg_labels], axis=0)\n",
    "\n",
    "# order = np.arange(len(resampled_labels))\n",
    "# np.random.shuffle(order)\n",
    "# resampled_features_CNN = resampled_features_CNN[order]\n",
    "# resampled_features_Dense = resampled_features_Dense[order]\n",
    "# resampled_labels = resampled_labels[order]\n",
    "\n",
    "# resampled_features_CNN.shape, resampled_features_Dense.shape"
   ]
  },
  {
   "cell_type": "markdown",
   "id": "devoted-melbourne",
   "metadata": {},
   "source": [
    "# Classification Model"
   ]
  },
  {
   "cell_type": "markdown",
   "id": "rational-montreal",
   "metadata": {},
   "source": [
    "## TensorBoard config"
   ]
  },
  {
   "cell_type": "code",
   "execution_count": 25,
   "id": "civilian-things",
   "metadata": {},
   "outputs": [],
   "source": [
    "tf.keras.backend.clear_session()"
   ]
  },
  {
   "cell_type": "code",
   "execution_count": 26,
   "id": "statistical-finnish",
   "metadata": {},
   "outputs": [],
   "source": [
    "# Training of this model was initially done from different location,\n",
    "# and the actual tensorboard metrics can be found in directory `train` and `validation`\n",
    "# If you want to run your own training based on this notebook,\n",
    "# please create `my_dictionaries` directory on your own. \n",
    "# All TensorBoard metrics will be saved there.\n",
    "root_logdir = os.path.join(os.curdir, 'my_dictionaries')\n",
    "\n",
    "def get_run_logdir():\n",
    "    import time\n",
    "    run_id = time.strftime('przebieg_%Y_%m_%d-%H_%M_%S')\n",
    "    return os.path.join(root_logdir, run_id)\n",
    "\n",
    "run_logdir = get_run_logdir()\n",
    "tensorboard_cb = keras.callbacks.TensorBoard(run_logdir)"
   ]
  },
  {
   "cell_type": "code",
   "execution_count": 27,
   "id": "accessory-depth",
   "metadata": {},
   "outputs": [
    {
     "name": "stdout",
     "output_type": "stream",
     "text": [
      "Handler or log instance doesn't exists.\n"
     ]
    }
   ],
   "source": [
    "try:\n",
    "    log.removeHandler(fh)\n",
    "except Exception as err:\n",
    "    print(\"Handler or log instance doesn't exists.\")\n",
    "else:\n",
    "    print(f'Handler {fh} removed correctly. All handlers:\\n{log.handlers}')"
   ]
  },
  {
   "cell_type": "code",
   "execution_count": 28,
   "id": "olive-adjustment",
   "metadata": {},
   "outputs": [],
   "source": [
    "import logging\n",
    "\n",
    "# get TF logger\n",
    "log = logging.getLogger('tensorflow')\n",
    "log.setLevel(logging.DEBUG)\n",
    "\n",
    "# create formatter and add it to the handlers\n",
    "formatter = logging.Formatter('%(asctime)s - %(name)s - %(levelname)s - %(message)s')\n",
    "\n",
    "# create file handler which logs even debug messages\n",
    "directory = os.path.join(run_logdir, 'tensorflow.log')\n",
    "os.makedirs(run_logdir, exist_ok=True)\n",
    "open(directory, 'w').close()\n",
    "fh = logging.FileHandler(directory)\n",
    "fh.setLevel(logging.DEBUG)\n",
    "fh.setFormatter(formatter)\n",
    "log.addHandler(fh)"
   ]
  },
  {
   "cell_type": "code",
   "execution_count": 29,
   "id": "quantitative-wesley",
   "metadata": {},
   "outputs": [
    {
     "name": "stdout",
     "output_type": "stream",
     "text": [
      "INFO:tensorflow:Config:\n",
      "{'initial_learning_rate': 0.1, 'decay_steps': 45, 'decay_rate': 0.9, 'staircase': True, 'cnn_input_shape': [250, 1], 'kernel_initializer': 'he_normal', 'statistical_input_shape': [26, 1], 'statistical_dense1_neurons_qty': 26, 'batch_size': 7100}\n"
     ]
    }
   ],
   "source": [
    "config = {\n",
    "    'initial_learning_rate': 0.1,\n",
    "    'decay_steps': 45,\n",
    "    'decay_rate': 0.9,\n",
    "    'staircase': True,\n",
    "    'cnn_input_shape': [X_train_CNN.shape[1], 1],\n",
    "    'kernel_initializer': 'he_normal',\n",
    "    'statistical_input_shape': [X_train_Dense.shape[1], 1],\n",
    "    'statistical_dense1_neurons_qty': X_train_Dense.shape[1],\n",
    "    'batch_size': 7100,\n",
    "}\n",
    "\n",
    "log.info(f'Config:\\n{config}')"
   ]
  },
  {
   "cell_type": "code",
   "execution_count": 30,
   "id": "short-irish",
   "metadata": {},
   "outputs": [],
   "source": [
    "with open(os.path.join(run_logdir, 'config.json'), 'w') as config_json:\n",
    "    json.dump(config, config_json)"
   ]
  },
  {
   "cell_type": "code",
   "execution_count": 31,
   "id": "proud-costa",
   "metadata": {},
   "outputs": [],
   "source": [
    "# Exponential decay learning rate scheduler\n",
    "initial_learning_rate = config['initial_learning_rate']\n",
    "lr_schedule = tf.keras.optimizers.schedules.ExponentialDecay(\n",
    "    initial_learning_rate,\n",
    "    decay_steps = config['decay_steps'],\n",
    "    decay_rate = config['decay_rate'],\n",
    "    staircase = config['staircase'])"
   ]
  },
  {
   "cell_type": "code",
   "execution_count": 32,
   "id": "elder-stand",
   "metadata": {},
   "outputs": [],
   "source": [
    "# Callback for collecting learning rate value over the process of training\n",
    "custom_lrs = []\n",
    "\n",
    "class CustomCallback(tf.keras.callbacks.Callback):\n",
    "    def on_epoch_end(self, epoch, logs=None):\n",
    "        custom_lrs.append({'epoch': epoch, 'lr': self.model.optimizer._decayed_lr('float32').numpy()})\n",
    "        print(f\"Epoch {epoch}. Current lr = {self.model.optimizer._decayed_lr('float32').numpy()}\")"
   ]
  },
  {
   "cell_type": "code",
   "execution_count": 33,
   "id": "spectacular-approval",
   "metadata": {
    "scrolled": true
   },
   "outputs": [
    {
     "name": "stdout",
     "output_type": "stream",
     "text": [
      "INFO:tensorflow:\n",
      "\n",
      "Building model:\n",
      "\n",
      "WARNING:tensorflow:NCCL is not supported when using virtual GPUs, fallingback to reduction to one device\n",
      "INFO:tensorflow:Using MirroredStrategy with devices ('/job:localhost/replica:0/task:0/device:GPU:0', '/job:localhost/replica:0/task:0/device:GPU:1', '/job:localhost/replica:0/task:0/device:GPU:2', '/job:localhost/replica:0/task:0/device:GPU:3', '/job:localhost/replica:0/task:0/device:GPU:4')\n",
      "INFO:tensorflow:Reduce to /job:localhost/replica:0/task:0/device:CPU:0 then broadcast to ('/job:localhost/replica:0/task:0/device:CPU:0',).\n",
      "INFO:tensorflow:Reduce to /job:localhost/replica:0/task:0/device:CPU:0 then broadcast to ('/job:localhost/replica:0/task:0/device:CPU:0',).\n",
      "INFO:tensorflow:Reduce to /job:localhost/replica:0/task:0/device:CPU:0 then broadcast to ('/job:localhost/replica:0/task:0/device:CPU:0',).\n",
      "INFO:tensorflow:Reduce to /job:localhost/replica:0/task:0/device:CPU:0 then broadcast to ('/job:localhost/replica:0/task:0/device:CPU:0',).\n",
      "INFO:tensorflow:Reduce to /job:localhost/replica:0/task:0/device:CPU:0 then broadcast to ('/job:localhost/replica:0/task:0/device:CPU:0',).\n",
      "INFO:tensorflow:Reduce to /job:localhost/replica:0/task:0/device:CPU:0 then broadcast to ('/job:localhost/replica:0/task:0/device:CPU:0',).\n",
      "INFO:tensorflow:Reduce to /job:localhost/replica:0/task:0/device:CPU:0 then broadcast to ('/job:localhost/replica:0/task:0/device:CPU:0',).\n",
      "INFO:tensorflow:Reduce to /job:localhost/replica:0/task:0/device:CPU:0 then broadcast to ('/job:localhost/replica:0/task:0/device:CPU:0',).\n",
      "INFO:tensorflow:Reduce to /job:localhost/replica:0/task:0/device:CPU:0 then broadcast to ('/job:localhost/replica:0/task:0/device:CPU:0',).\n",
      "INFO:tensorflow:Reduce to /job:localhost/replica:0/task:0/device:CPU:0 then broadcast to ('/job:localhost/replica:0/task:0/device:CPU:0',).\n"
     ]
    },
    {
     "data": {
      "text/plain": [
       "'./moje_dzienniki/przebieg_2021_05_29-17_08_21/model_creation_categorical_reworked.py'"
      ]
     },
     "execution_count": 33,
     "metadata": {},
     "output_type": "execute_result"
    }
   ],
   "source": [
    "from importlib import import_module, reload\n",
    "from shutil import copyfile\n",
    "\n",
    "model_creation = import_module('model_creation_categorical_reworked')\n",
    "reload(model_creation)\n",
    "\n",
    "log.info('\\n\\nBuilding model:\\n')\n",
    "# The quantity of provided devices depends from number of GPUs in local system.\n",
    "devices=[\"/gpu:0\", \"/gpu:1\", \"/gpu:2\", \"/gpu:3\", \"/gpu:4\"]\n",
    "model = model_creation.build_model(config, devices=devices, cust_lr_scheduler = lr_schedule)\n",
    "\n",
    "copyfile('model_creation_categorical_reworked.py', os.path.join(run_logdir, 'model_creation_categorical_reworked.py'))"
   ]
  },
  {
   "cell_type": "markdown",
   "id": "brazilian-liquid",
   "metadata": {},
   "source": [
    "## Bias correction\n",
    "Initial bias correction is sometimes performed to adjust early loss value when training data on unbalanced DS. After the tests, in this case it didn't bring any improvement for model training, so was commented out."
   ]
  },
  {
   "cell_type": "code",
   "execution_count": 4,
   "id": "fantastic-fields",
   "metadata": {},
   "outputs": [],
   "source": [
    "# model.predict((X_train_CNN[:10], X_train_Dense[:10]))"
   ]
  },
  {
   "cell_type": "code",
   "execution_count": 5,
   "id": "original-extraction",
   "metadata": {
    "scrolled": true
   },
   "outputs": [],
   "source": [
    "# results = model.evaluate((X_train_CNN, X_train_Dense), y_train, batch_size=config['batch_size'] * len(devices))\n",
    "# print(\"Loss: {:0.4f}\".format(results[0]))"
   ]
  },
  {
   "cell_type": "code",
   "execution_count": 6,
   "id": "verified-victorian",
   "metadata": {},
   "outputs": [],
   "source": [
    "# initial_bias = np.log([pos/neg])\n",
    "# initial_bias"
   ]
  },
  {
   "cell_type": "code",
   "execution_count": 7,
   "id": "incorporate-oxford",
   "metadata": {},
   "outputs": [],
   "source": [
    "# from importlib import import_module, reload\n",
    "# from shutil import copyfile\n",
    "\n",
    "# model_creation = import_module('model_creation_categorical')\n",
    "# reload(model_creation)\n",
    "\n",
    "# log.info('\\n\\nBuilding model:\\n')\n",
    "# devices=[\"/gpu:0\", \"/gpu:1\", \"/gpu:2\", \"/gpu:3\", \"/gpu:4\"]\n",
    "# model = model_creation.build_model(config, devices=devices, add_dropout=True, add_batch_norm=True, cust_lr_scheduler = lr_schedule, output_bias=initial_bias)\n",
    "\n",
    "# copyfile('model_creation_categorical.py', os.path.join(run_logdir, 'model_creation_categorical.py'))"
   ]
  },
  {
   "cell_type": "code",
   "execution_count": 8,
   "id": "small-guard",
   "metadata": {},
   "outputs": [],
   "source": [
    "# pos/(total)"
   ]
  },
  {
   "cell_type": "code",
   "execution_count": 9,
   "id": "advance-skiing",
   "metadata": {},
   "outputs": [],
   "source": [
    "# model.predict((X_train_CNN[:10], X_train_Dense[:10]))"
   ]
  },
  {
   "cell_type": "code",
   "execution_count": 10,
   "id": "floppy-feature",
   "metadata": {},
   "outputs": [],
   "source": [
    "# results = model.evaluate((X_train_CNN, X_train_Dense), y_train, batch_size=config['batch_size'] * len(devices))\n",
    "# print(\"Loss: {:0.4f}\".format(results[0]))"
   ]
  },
  {
   "cell_type": "markdown",
   "id": "marine-function",
   "metadata": {
    "scrolled": true
   },
   "source": [
    "# Model training\n",
    "All training and validation metrics can be found in tensorboard folders and visualized by tensorboard."
   ]
  },
  {
   "cell_type": "code",
   "execution_count": 34,
   "id": "mysterious-short",
   "metadata": {
    "scrolled": true
   },
   "outputs": [
    {
     "name": "stdout",
     "output_type": "stream",
     "text": [
      "INFO:tensorflow:\n",
      "\n",
      "Model fitting:\n",
      "\n",
      "\n",
      "INFO:tensorflow:Reduce to /job:localhost/replica:0/task:0/device:GPU:0 then broadcast to ('/job:localhost/replica:0/task:0/device:GPU:0', '/job:localhost/replica:0/task:0/device:GPU:1', '/job:localhost/replica:0/task:0/device:GPU:2', '/job:localhost/replica:0/task:0/device:GPU:3', '/job:localhost/replica:0/task:0/device:GPU:4').\n",
      "INFO:tensorflow:Reduce to /job:localhost/replica:0/task:0/device:GPU:0 then broadcast to ('/job:localhost/replica:0/task:0/device:GPU:0', '/job:localhost/replica:0/task:0/device:GPU:1', '/job:localhost/replica:0/task:0/device:GPU:2', '/job:localhost/replica:0/task:0/device:GPU:3', '/job:localhost/replica:0/task:0/device:GPU:4').\n",
      "INFO:tensorflow:Reduce to /job:localhost/replica:0/task:0/device:GPU:0 then broadcast to ('/job:localhost/replica:0/task:0/device:GPU:0', '/job:localhost/replica:0/task:0/device:GPU:1', '/job:localhost/replica:0/task:0/device:GPU:2', '/job:localhost/replica:0/task:0/device:GPU:3', '/job:localhost/replica:0/task:0/device:GPU:4').\n",
      "INFO:tensorflow:Reduce to /job:localhost/replica:0/task:0/device:GPU:0 then broadcast to ('/job:localhost/replica:0/task:0/device:GPU:0', '/job:localhost/replica:0/task:0/device:GPU:1', '/job:localhost/replica:0/task:0/device:GPU:2', '/job:localhost/replica:0/task:0/device:GPU:3', '/job:localhost/replica:0/task:0/device:GPU:4').\n",
      "INFO:tensorflow:Reduce to /job:localhost/replica:0/task:0/device:GPU:0 then broadcast to ('/job:localhost/replica:0/task:0/device:GPU:0', '/job:localhost/replica:0/task:0/device:GPU:1', '/job:localhost/replica:0/task:0/device:GPU:2', '/job:localhost/replica:0/task:0/device:GPU:3', '/job:localhost/replica:0/task:0/device:GPU:4').\n",
      "INFO:tensorflow:Reduce to /job:localhost/replica:0/task:0/device:GPU:0 then broadcast to ('/job:localhost/replica:0/task:0/device:GPU:0', '/job:localhost/replica:0/task:0/device:GPU:1', '/job:localhost/replica:0/task:0/device:GPU:2', '/job:localhost/replica:0/task:0/device:GPU:3', '/job:localhost/replica:0/task:0/device:GPU:4').\n",
      "INFO:tensorflow:Reduce to /job:localhost/replica:0/task:0/device:GPU:0 then broadcast to ('/job:localhost/replica:0/task:0/device:GPU:0', '/job:localhost/replica:0/task:0/device:GPU:1', '/job:localhost/replica:0/task:0/device:GPU:2', '/job:localhost/replica:0/task:0/device:GPU:3', '/job:localhost/replica:0/task:0/device:GPU:4').\n",
      "INFO:tensorflow:Reduce to /job:localhost/replica:0/task:0/device:GPU:0 then broadcast to ('/job:localhost/replica:0/task:0/device:GPU:0', '/job:localhost/replica:0/task:0/device:GPU:1', '/job:localhost/replica:0/task:0/device:GPU:2', '/job:localhost/replica:0/task:0/device:GPU:3', '/job:localhost/replica:0/task:0/device:GPU:4').\n",
      "INFO:tensorflow:Reduce to /job:localhost/replica:0/task:0/device:GPU:0 then broadcast to ('/job:localhost/replica:0/task:0/device:GPU:0', '/job:localhost/replica:0/task:0/device:GPU:1', '/job:localhost/replica:0/task:0/device:GPU:2', '/job:localhost/replica:0/task:0/device:GPU:3', '/job:localhost/replica:0/task:0/device:GPU:4').\n",
      "INFO:tensorflow:Reduce to /job:localhost/replica:0/task:0/device:GPU:0 then broadcast to ('/job:localhost/replica:0/task:0/device:GPU:0', '/job:localhost/replica:0/task:0/device:GPU:1', '/job:localhost/replica:0/task:0/device:GPU:2', '/job:localhost/replica:0/task:0/device:GPU:3', '/job:localhost/replica:0/task:0/device:GPU:4').\n",
      "Epoch 0. Current lr = 0.10000000149011612\n",
      "Epoch 1. Current lr = 0.10000000149011612\n",
      "Epoch 2. Current lr = 0.10000000149011612\n",
      "Epoch 3. Current lr = 0.08999999612569809\n",
      "Epoch 4. Current lr = 0.08999999612569809\n",
      "Epoch 5. Current lr = 0.08999999612569809\n",
      "Epoch 6. Current lr = 0.08099999278783798\n",
      "Epoch 7. Current lr = 0.08099999278783798\n",
      "Epoch 8. Current lr = 0.08099999278783798\n",
      "Epoch 9. Current lr = 0.08099999278783798\n",
      "Epoch 10. Current lr = 0.07289999723434448\n",
      "Epoch 11. Current lr = 0.07289999723434448\n",
      "Epoch 12. Current lr = 0.07289999723434448\n",
      "Epoch 13. Current lr = 0.06560998409986496\n",
      "Epoch 14. Current lr = 0.06560998409986496\n",
      "Epoch 15. Current lr = 0.06560998409986496\n",
      "Epoch 16. Current lr = 0.06560998409986496\n",
      "Epoch 17. Current lr = 0.05904899165034294\n",
      "Epoch 18. Current lr = 0.05904899165034294\n",
      "Epoch 19. Current lr = 0.05904899165034294\n",
      "Epoch 20. Current lr = 0.053144097328186035\n",
      "Epoch 21. Current lr = 0.053144097328186035\n",
      "Epoch 22. Current lr = 0.053144097328186035\n",
      "Epoch 23. Current lr = 0.053144097328186035\n",
      "Epoch 24. Current lr = 0.04782968387007713\n",
      "Epoch 25. Current lr = 0.04782968387007713\n",
      "Epoch 26. Current lr = 0.04782968387007713\n",
      "Epoch 27. Current lr = 0.04304670915007591\n",
      "Epoch 28. Current lr = 0.04304670915007591\n",
      "Epoch 29. Current lr = 0.04304670915007591\n",
      "Epoch 30. Current lr = 0.04304670915007591\n",
      "Epoch 31. Current lr = 0.03874203935265541\n",
      "Epoch 32. Current lr = 0.03874203935265541\n",
      "Epoch 33. Current lr = 0.03874203935265541\n",
      "Epoch 34. Current lr = 0.03486783429980278\n",
      "Epoch 35. Current lr = 0.03486783429980278\n",
      "Epoch 36. Current lr = 0.03486783429980278\n",
      "Epoch 37. Current lr = 0.03486783429980278\n",
      "Epoch 38. Current lr = 0.03138105198740959\n",
      "Epoch 39. Current lr = 0.03138105198740959\n",
      "Epoch 40. Current lr = 0.03138105198740959\n",
      "Epoch 41. Current lr = 0.028242943808436394\n",
      "Epoch 42. Current lr = 0.028242943808436394\n",
      "Epoch 43. Current lr = 0.028242943808436394\n",
      "Epoch 44. Current lr = 0.02541864849627018\n",
      "Epoch 45. Current lr = 0.02541864849627018\n",
      "Epoch 46. Current lr = 0.02541864849627018\n",
      "Epoch 47. Current lr = 0.02541864849627018\n",
      "Epoch 48. Current lr = 0.022876784205436707\n",
      "Epoch 49. Current lr = 0.022876784205436707\n",
      "Epoch 50. Current lr = 0.022876784205436707\n",
      "Epoch 51. Current lr = 0.020589103922247887\n",
      "Epoch 52. Current lr = 0.020589103922247887\n",
      "Epoch 53. Current lr = 0.020589103922247887\n",
      "Epoch 54. Current lr = 0.020589103922247887\n",
      "Epoch 55. Current lr = 0.018530195578932762\n",
      "Epoch 56. Current lr = 0.018530195578932762\n",
      "Epoch 57. Current lr = 0.018530195578932762\n",
      "Epoch 58. Current lr = 0.01667717471718788\n",
      "Epoch 59. Current lr = 0.01667717471718788\n",
      "Epoch 60. Current lr = 0.01667717471718788\n",
      "Epoch 61. Current lr = 0.01667717471718788\n",
      "Epoch 62. Current lr = 0.015009455382823944\n",
      "Epoch 63. Current lr = 0.015009455382823944\n",
      "Epoch 64. Current lr = 0.015009455382823944\n",
      "Epoch 65. Current lr = 0.013508512638509274\n",
      "Epoch 66. Current lr = 0.013508512638509274\n",
      "Epoch 67. Current lr = 0.013508512638509274\n",
      "Epoch 68. Current lr = 0.013508512638509274\n",
      "Epoch 69. Current lr = 0.012157658115029335\n",
      "Epoch 70. Current lr = 0.012157658115029335\n",
      "Epoch 71. Current lr = 0.012157658115029335\n",
      "Epoch 72. Current lr = 0.010941892862319946\n",
      "Epoch 73. Current lr = 0.010941892862319946\n",
      "Epoch 74. Current lr = 0.010941892862319946\n",
      "Epoch 75. Current lr = 0.010941892862319946\n",
      "Epoch 76. Current lr = 0.009847703389823437\n",
      "Epoch 77. Current lr = 0.009847703389823437\n",
      "Epoch 78. Current lr = 0.009847703389823437\n",
      "Epoch 79. Current lr = 0.00886293314397335\n",
      "Epoch 80. Current lr = 0.00886293314397335\n",
      "Epoch 81. Current lr = 0.00886293314397335\n",
      "Epoch 82. Current lr = 0.00886293314397335\n",
      "Epoch 83. Current lr = 0.007976639084517956\n",
      "Epoch 84. Current lr = 0.007976639084517956\n",
      "Epoch 85. Current lr = 0.007976639084517956\n",
      "Epoch 86. Current lr = 0.00717897480353713\n",
      "Epoch 87. Current lr = 0.00717897480353713\n",
      "Epoch 88. Current lr = 0.00717897480353713\n",
      "Epoch 89. Current lr = 0.006461077835410833\n",
      "Epoch 90. Current lr = 0.006461077835410833\n",
      "Epoch 91. Current lr = 0.006461077835410833\n",
      "Epoch 92. Current lr = 0.006461077835410833\n",
      "Epoch 93. Current lr = 0.005814969539642334\n",
      "Epoch 94. Current lr = 0.005814969539642334\n",
      "Epoch 95. Current lr = 0.005814969539642334\n",
      "Epoch 96. Current lr = 0.005233472213149071\n",
      "Epoch 97. Current lr = 0.005233472213149071\n",
      "Epoch 98. Current lr = 0.005233472213149071\n",
      "Epoch 99. Current lr = 0.005233472213149071\n",
      "Epoch 100. Current lr = 0.004710124805569649\n",
      "Epoch 101. Current lr = 0.004710124805569649\n",
      "Epoch 102. Current lr = 0.004710124805569649\n",
      "Epoch 103. Current lr = 0.004239112604409456\n",
      "Epoch 104. Current lr = 0.004239112604409456\n",
      "Epoch 105. Current lr = 0.004239112604409456\n",
      "Epoch 106. Current lr = 0.004239112604409456\n",
      "Epoch 107. Current lr = 0.0038152008783072233\n",
      "Epoch 108. Current lr = 0.0038152008783072233\n",
      "Epoch 109. Current lr = 0.0038152008783072233\n",
      "Epoch 110. Current lr = 0.003433680860325694\n",
      "Epoch 111. Current lr = 0.003433680860325694\n"
     ]
    },
    {
     "name": "stdout",
     "output_type": "stream",
     "text": [
      "Epoch 112. Current lr = 0.003433680860325694\n",
      "Epoch 113. Current lr = 0.003433680860325694\n",
      "Epoch 114. Current lr = 0.0030903127044439316\n",
      "Epoch 115. Current lr = 0.0030903127044439316\n",
      "Epoch 116. Current lr = 0.0030903127044439316\n",
      "Epoch 117. Current lr = 0.002781281480565667\n",
      "Epoch 118. Current lr = 0.002781281480565667\n",
      "Epoch 119. Current lr = 0.002781281480565667\n",
      "Epoch 120. Current lr = 0.002781281480565667\n",
      "Epoch 121. Current lr = 0.00250315316952765\n",
      "Epoch 122. Current lr = 0.00250315316952765\n",
      "Epoch 123. Current lr = 0.00250315316952765\n",
      "Epoch 124. Current lr = 0.0022528376430273056\n",
      "Epoch 125. Current lr = 0.0022528376430273056\n",
      "Epoch 126. Current lr = 0.0022528376430273056\n",
      "Epoch 127. Current lr = 0.0022528376430273056\n",
      "Epoch 128. Current lr = 0.0020275539718568325\n",
      "Epoch 129. Current lr = 0.0020275539718568325\n",
      "Epoch 130. Current lr = 0.0020275539718568325\n",
      "Epoch 131. Current lr = 0.0018247984116896987\n",
      "Epoch 132. Current lr = 0.0018247984116896987\n",
      "Epoch 133. Current lr = 0.0018247984116896987\n",
      "Epoch 134. Current lr = 0.0016423186752945185\n",
      "Epoch 135. Current lr = 0.0016423186752945185\n",
      "Epoch 136. Current lr = 0.0016423186752945185\n",
      "Epoch 137. Current lr = 0.0016423186752945185\n",
      "Epoch 138. Current lr = 0.0014780866913497448\n",
      "Epoch 139. Current lr = 0.0014780866913497448\n",
      "Epoch 140. Current lr = 0.0014780866913497448\n",
      "Epoch 141. Current lr = 0.001330277998931706\n",
      "Epoch 142. Current lr = 0.001330277998931706\n",
      "Epoch 143. Current lr = 0.001330277998931706\n",
      "Epoch 144. Current lr = 0.001330277998931706\n",
      "Epoch 145. Current lr = 0.0011972502106800675\n",
      "Epoch 146. Current lr = 0.0011972502106800675\n",
      "Epoch 147. Current lr = 0.0011972502106800675\n",
      "Epoch 148. Current lr = 0.0010775250848382711\n",
      "Epoch 149. Current lr = 0.0010775250848382711\n",
      "Epoch 150. Current lr = 0.0010775250848382711\n",
      "Epoch 151. Current lr = 0.0010775250848382711\n",
      "Epoch 152. Current lr = 0.0009697726345621049\n",
      "Epoch 153. Current lr = 0.0009697726345621049\n",
      "Epoch 154. Current lr = 0.0009697726345621049\n",
      "Epoch 155. Current lr = 0.0008727952954359353\n",
      "Epoch 156. Current lr = 0.0008727952954359353\n",
      "Epoch 157. Current lr = 0.0008727952954359353\n",
      "Epoch 158. Current lr = 0.0008727952954359353\n",
      "Epoch 159. Current lr = 0.0007855158182792366\n",
      "Epoch 160. Current lr = 0.0007855158182792366\n",
      "Epoch 161. Current lr = 0.0007855158182792366\n",
      "Epoch 162. Current lr = 0.000706964114215225\n",
      "Epoch 163. Current lr = 0.000706964114215225\n",
      "Epoch 164. Current lr = 0.000706964114215225\n",
      "Epoch 165. Current lr = 0.000706964114215225\n",
      "Epoch 166. Current lr = 0.0006362677086144686\n",
      "Epoch 167. Current lr = 0.0006362677086144686\n",
      "Epoch 168. Current lr = 0.0006362677086144686\n",
      "Epoch 169. Current lr = 0.0005726409726776183\n",
      "Epoch 170. Current lr = 0.0005726409726776183\n",
      "Epoch 171. Current lr = 0.0005726409726776183\n",
      "Epoch 172. Current lr = 0.0005726409726776183\n",
      "Epoch 173. Current lr = 0.0005153768579475582\n",
      "Epoch 174. Current lr = 0.0005153768579475582\n",
      "Epoch 175. Current lr = 0.0005153768579475582\n",
      "Epoch 176. Current lr = 0.000463839212898165\n",
      "Epoch 177. Current lr = 0.000463839212898165\n",
      "Epoch 178. Current lr = 0.000463839212898165\n",
      "Epoch 179. Current lr = 0.00041745518683455884\n",
      "Epoch 180. Current lr = 0.00041745518683455884\n",
      "Epoch 181. Current lr = 0.00041745518683455884\n",
      "Epoch 182. Current lr = 0.00041745518683455884\n",
      "Epoch 183. Current lr = 0.00037570970016531646\n",
      "Epoch 184. Current lr = 0.00037570970016531646\n",
      "Epoch 185. Current lr = 0.00037570970016531646\n",
      "Epoch 186. Current lr = 0.0003381387214176357\n",
      "Epoch 187. Current lr = 0.0003381387214176357\n",
      "Epoch 188. Current lr = 0.0003381387214176357\n",
      "Epoch 189. Current lr = 0.0003381387214176357\n",
      "Epoch 190. Current lr = 0.00030432481435127556\n",
      "Epoch 191. Current lr = 0.00030432481435127556\n",
      "Epoch 192. Current lr = 0.00030432481435127556\n",
      "Epoch 193. Current lr = 0.00027389233582653105\n",
      "Epoch 194. Current lr = 0.00027389233582653105\n",
      "Epoch 195. Current lr = 0.00027389233582653105\n",
      "Epoch 196. Current lr = 0.00027389233582653105\n",
      "Epoch 197. Current lr = 0.00024650312843732536\n",
      "Epoch 198. Current lr = 0.00024650312843732536\n",
      "Epoch 199. Current lr = 0.00024650312843732536\n",
      "Epoch 200. Current lr = 0.00022185278066899627\n",
      "Epoch 201. Current lr = 0.00022185278066899627\n",
      "Epoch 202. Current lr = 0.00022185278066899627\n",
      "Epoch 203. Current lr = 0.00022185278066899627\n",
      "Epoch 204. Current lr = 0.0001996675127884373\n",
      "Epoch 205. Current lr = 0.0001996675127884373\n",
      "Epoch 206. Current lr = 0.0001996675127884373\n",
      "Epoch 207. Current lr = 0.00017970074259210378\n",
      "Epoch 208. Current lr = 0.00017970074259210378\n",
      "Epoch 209. Current lr = 0.00017970074259210378\n",
      "Epoch 210. Current lr = 0.00017970074259210378\n",
      "Epoch 211. Current lr = 0.00016173066978808492\n",
      "Epoch 212. Current lr = 0.00016173066978808492\n",
      "Epoch 213. Current lr = 0.00016173066978808492\n",
      "Epoch 214. Current lr = 0.00014555758389178663\n",
      "Epoch 215. Current lr = 0.00014555758389178663\n",
      "Epoch 216. Current lr = 0.00014555758389178663\n",
      "Epoch 217. Current lr = 0.00014555758389178663\n",
      "Epoch 218. Current lr = 0.00013100184150971472\n",
      "Epoch 219. Current lr = 0.00013100184150971472\n",
      "Epoch 220. Current lr = 0.00013100184150971472\n",
      "Epoch 221. Current lr = 0.00011790164717240259\n",
      "Epoch 222. Current lr = 0.00011790164717240259\n",
      "Epoch 223. Current lr = 0.00011790164717240259\n",
      "Epoch 224. Current lr = 0.00010611147445160896\n",
      "Epoch 225. Current lr = 0.00010611147445160896\n",
      "Epoch 226. Current lr = 0.00010611147445160896\n",
      "Epoch 227. Current lr = 0.00010611147445160896\n",
      "Epoch 228. Current lr = 9.550032700644806e-05\n",
      "Epoch 229. Current lr = 9.550032700644806e-05\n",
      "Epoch 230. Current lr = 9.550032700644806e-05\n",
      "Epoch 231. Current lr = 8.595029066782445e-05\n",
      "Epoch 232. Current lr = 8.595029066782445e-05\n",
      "Epoch 233. Current lr = 8.595029066782445e-05\n",
      "Epoch 234. Current lr = 8.595029066782445e-05\n",
      "Epoch 235. Current lr = 7.73552674218081e-05\n",
      "Epoch 236. Current lr = 7.73552674218081e-05\n",
      "Epoch 237. Current lr = 7.73552674218081e-05\n",
      "Epoch 238. Current lr = 6.961973122088239e-05\n",
      "Epoch 239. Current lr = 6.961973122088239e-05\n",
      "Epoch 240. Current lr = 6.961973122088239e-05\n",
      "Epoch 241. Current lr = 6.961973122088239e-05\n",
      "Epoch 242. Current lr = 6.265775300562382e-05\n",
      "Epoch 243. Current lr = 6.265775300562382e-05\n",
      "Epoch 244. Current lr = 6.265775300562382e-05\n",
      "Epoch 245. Current lr = 5.639198570861481e-05\n",
      "Epoch 246. Current lr = 5.639198570861481e-05\n",
      "Epoch 247. Current lr = 5.639198570861481e-05\n",
      "Epoch 248. Current lr = 5.639198570861481e-05\n",
      "Epoch 249. Current lr = 5.07527802255936e-05\n",
      "Epoch 250. Current lr = 5.07527802255936e-05\n",
      "Epoch 251. Current lr = 5.07527802255936e-05\n",
      "Epoch 252. Current lr = 4.5677501475438476e-05\n",
      "Epoch 253. Current lr = 4.5677501475438476e-05\n",
      "Epoch 254. Current lr = 4.5677501475438476e-05\n",
      "Epoch 255. Current lr = 4.5677501475438476e-05\n",
      "Epoch 256. Current lr = 4.110975351068191e-05\n",
      "Epoch 257. Current lr = 4.110975351068191e-05\n",
      "Epoch 258. Current lr = 4.110975351068191e-05\n",
      "Epoch 259. Current lr = 3.6998775613028556e-05\n",
      "Epoch 260. Current lr = 3.6998775613028556e-05\n",
      "Epoch 261. Current lr = 3.6998775613028556e-05\n",
      "Epoch 262. Current lr = 3.6998775613028556e-05\n",
      "Epoch 263. Current lr = 3.329889659653418e-05\n",
      "Epoch 264. Current lr = 3.329889659653418e-05\n",
      "Epoch 265. Current lr = 3.329889659653418e-05\n",
      "Epoch 266. Current lr = 2.9969003662699834e-05\n",
      "Epoch 267. Current lr = 2.9969003662699834e-05\n",
      "Epoch 268. Current lr = 2.9969003662699834e-05\n",
      "Epoch 269. Current lr = 2.6972105843015015e-05\n",
      "Epoch 270. Current lr = 2.6972105843015015e-05\n",
      "Epoch 271. Current lr = 2.6972105843015015e-05\n",
      "Epoch 272. Current lr = 2.6972105843015015e-05\n",
      "Epoch 273. Current lr = 2.427489380352199e-05\n",
      "Epoch 274. Current lr = 2.427489380352199e-05\n",
      "Epoch 275. Current lr = 2.427489380352199e-05\n",
      "Epoch 276. Current lr = 2.1847405150765553e-05\n",
      "Epoch 277. Current lr = 2.1847405150765553e-05\n",
      "Epoch 278. Current lr = 2.1847405150765553e-05\n",
      "Epoch 279. Current lr = 2.1847405150765553e-05\n"
     ]
    }
   ],
   "source": [
    "log.info('\\n\\nModel fitting:\\n\\n')\n",
    "history = model.fit(\n",
    "    (X_train_CNN, X_train_Dense), y_train, \n",
    "    epochs=280, \n",
    "    batch_size = config['batch_size'] * len(devices), \n",
    "    validation_data=((X_valid_CNN, X_valid_Dense), y_valid), \n",
    "    verbose=0,\n",
    "    class_weight=class_weight,\n",
    "    callbacks=[\n",
    "        tensorboard_cb, \n",
    "        CustomCallback()\n",
    "    ]\n",
    ")"
   ]
  },
  {
   "cell_type": "code",
   "execution_count": 35,
   "id": "acoustic-nirvana",
   "metadata": {
    "scrolled": true
   },
   "outputs": [
    {
     "name": "stdout",
     "output_type": "stream",
     "text": [
      "2015/2015 [==============================] - 19s 10ms/step - binary_accuracy: 0.9389 - tn: 60217.0000 - recall: 0.0820 - fn: 3448.0000 - tp: 308.0000 - precision: 0.3850 - loss: 0.3896 - prc: 0.0980 - fp: 492.0000 - auc: 0.5369\n"
     ]
    },
    {
     "data": {
      "text/plain": [
       "{'binary_accuracy': 0.9388815760612488,\n",
       " 'tn': 60217.0,\n",
       " 'recall': 0.08200213313102722,\n",
       " 'fn': 3448.0,\n",
       " 'tp': 308.0,\n",
       " 'precision': 0.38499999046325684,\n",
       " 'loss': 0.3896186649799347,\n",
       " 'prc': 0.09803926944732666,\n",
       " 'fp': 492.0,\n",
       " 'auc': 0.5369489789009094}"
      ]
     },
     "execution_count": 35,
     "metadata": {},
     "output_type": "execute_result"
    }
   ],
   "source": [
    "model.evaluate((X_test_CNN, X_test_Dense), y_test, return_dict=True)"
   ]
  },
  {
   "cell_type": "markdown",
   "id": "vocal-nation",
   "metadata": {},
   "source": [
    "## Learning on balanced DS\n",
    "In case when DS balancing was performed"
   ]
  },
  {
   "cell_type": "code",
   "execution_count": 12,
   "id": "cardiac-gilbert",
   "metadata": {},
   "outputs": [],
   "source": [
    "# resampled_steps_per_epoch = np.ceil(2.0*neg/(config['batch_size'] * len(devices)))\n",
    "# resampled_steps_per_epoch"
   ]
  },
  {
   "cell_type": "code",
   "execution_count": 13,
   "id": "portuguese-applicant",
   "metadata": {
    "scrolled": true
   },
   "outputs": [],
   "source": [
    "# log.info('\\n\\nModel fitting:\\n\\n')\n",
    "# history = model.fit(\n",
    "#     (resampled_features_CNN, resampled_features_Dense), resampled_labels, \n",
    "#     epochs=280, \n",
    "#     batch_size = config['batch_size'] * len(devices), \n",
    "#     steps_per_epoch=resampled_steps_per_epoch,\n",
    "#     validation_data=((X_valid_CNN, X_valid_Dense), y_valid), \n",
    "#     callbacks=[\n",
    "#         tensorboard_cb, \n",
    "#         CustomCallback(), \n",
    "#     ]\n",
    "# )"
   ]
  },
  {
   "cell_type": "code",
   "execution_count": 14,
   "id": "impressed-weight",
   "metadata": {},
   "outputs": [],
   "source": [
    "# evaluate_res = model.evaluate((X_test_CNN, X_test_Dense), y_test, return_dict=True)\n",
    "# evaluate_res"
   ]
  },
  {
   "cell_type": "markdown",
   "id": "purple-field",
   "metadata": {},
   "source": []
  },
  {
   "cell_type": "markdown",
   "id": "silver-toyota",
   "metadata": {},
   "source": [
    "## Final learning rate overview during training process"
   ]
  },
  {
   "cell_type": "code",
   "execution_count": 36,
   "id": "innocent-lover",
   "metadata": {
    "scrolled": false
   },
   "outputs": [
    {
     "data": {
      "image/png": "[encoded data removed]",
      "text/plain": [
       "<Figure size 720x720 with 1 Axes>"
      ]
     },
     "metadata": {
      "needs_background": "light"
     },
     "output_type": "display_data"
    }
   ],
   "source": [
    "epochs, lrs = [], []\n",
    "for entry in custom_lrs:\n",
    "    epochs.append(entry['epoch'])\n",
    "    lrs.append(entry['lr'])\n",
    "    \n",
    "plt.figure(figsize=(10, 10))\n",
    "plt.plot(epochs, lrs)\n",
    "plt.grid()\n",
    "plt.title('Learning rates over epochs')\n",
    "plt.yticks(np.arange(0.0, 0.11, 0.005))\n",
    "plt.xticks(np.arange(0, 300, 20))\n",
    "plt.xlabel('Epoch')\n",
    "fname = os.path.join(run_logdir, 'lr.svg')\n",
    "plt.savefig(fname, format='svg')\n",
    "plt.show()"
   ]
  },
  {
   "cell_type": "code",
   "execution_count": 37,
   "id": "earlier-liability",
   "metadata": {},
   "outputs": [
    {
     "data": {
      "image/png": "[encoded data removed]",
      "text/plain": [
       "<Figure size 720x720 with 1 Axes>"
      ]
     },
     "metadata": {
      "needs_background": "light"
     },
     "output_type": "display_data"
    }
   ],
   "source": [
    "epochs, lrs = [], []\n",
    "for entry in custom_lrs:\n",
    "    epochs.append(entry['epoch'])\n",
    "    lrs.append(entry['lr'])\n",
    "\n",
    "plt.figure(figsize=(10, 10))\n",
    "plt.plot(epochs, lrs)\n",
    "plt.grid(which='both')\n",
    "plt.yscale('log')\n",
    "plt.xticks(np.arange(0, 300, 20))\n",
    "plt.title('Learning rates over epochs (x-axis in logarithmic scale)')\n",
    "plt.xlabel('Epoch')\n",
    "plt.yticks([1e-1, 1e-2, 1e-3, 1e-4, 1e-5])\n",
    "fname = os.path.join(run_logdir, 'lr_log_scale.svg')\n",
    "plt.savefig(fname, format='svg')\n",
    "plt.show()"
   ]
  },
  {
   "cell_type": "markdown",
   "id": "german-address",
   "metadata": {},
   "source": [
    "# Sample model metrics after training"
   ]
  },
  {
   "cell_type": "code",
   "execution_count": 38,
   "id": "known-exercise",
   "metadata": {
    "scrolled": false
   },
   "outputs": [
    {
     "name": "stdout",
     "output_type": "stream",
     "text": [
      "INFO:tensorflow:\n",
      "\n",
      "Predicted min, max range: (9.7275387e-20, 0.9977894)\n",
      "\n"
     ]
    }
   ],
   "source": [
    "y_pred = model.predict((X_test_CNN, X_test_Dense))\n",
    "log.info(f'\\n\\nPredicted min, max range: {np.min(y_pred), np.max(y_pred)}\\n')"
   ]
  },
  {
   "cell_type": "code",
   "execution_count": 43,
   "id": "attached-upper",
   "metadata": {},
   "outputs": [],
   "source": [
    "# Applying treshold for classification probability\n",
    "_y_pred = np.copy(y_pred)\n",
    "_pred_one = np.where(_y_pred >= 0.9)\n",
    "_pred_zero = np.where(_y_pred < 0.9)\n",
    "\n",
    "_y_pred[_pred_one] = 1.0\n",
    "_y_pred[_pred_zero] = 0.0"
   ]
  },
  {
   "cell_type": "markdown",
   "id": "weighted-deployment",
   "metadata": {},
   "source": [
    "## Confusion matrixes"
   ]
  },
  {
   "cell_type": "code",
   "execution_count": 47,
   "id": "killing-interstate",
   "metadata": {
    "scrolled": false
   },
   "outputs": [
    {
     "name": "stdout",
     "output_type": "stream",
     "text": [
      "total: 64465\n",
      "[[0.93410378 0.00763205]\n",
      " [0.05348639 0.00477779]]\n"
     ]
    },
    {
     "data": {
      "image/png": "[encoded data removed]",
      "text/plain": [
       "<Figure size 720x720 with 2 Axes>"
      ]
     },
     "metadata": {
      "needs_background": "light"
     },
     "output_type": "display_data"
    }
   ],
   "source": [
    "plt.figure(figsize=(10, 10))\n",
    "cm = sklearn.metrics.confusion_matrix(y_test, _y_pred)\n",
    "print(f'total: {np.sum(cm)}')\n",
    "cm = cm / np.sum(cm)\n",
    "print(cm)\n",
    "sns.heatmap(cm, annot=True, annot_kws={'fontsize': 'xx-large'})\n",
    "fname = os.path.join(run_logdir, 'confusion_matrix_test.svg')\n",
    "plt.title('Confusion matrix - test dataset')\n",
    "plt.xlabel('Predictions')\n",
    "plt.ylabel('Actual')\n",
    "plt.savefig(fname, format='svg')\n",
    "plt.show()"
   ]
  },
  {
   "cell_type": "code",
   "execution_count": 48,
   "id": "entire-anthony",
   "metadata": {},
   "outputs": [
    {
     "name": "stdout",
     "output_type": "stream",
     "text": [
      "total: 443010\n",
      "[[0.94118643 0.01143992]\n",
      " [0.00540394 0.04196971]]\n"
     ]
    },
    {
     "data": {
      "image/png": "[encoded data removed]",
      "text/plain": [
       "<Figure size 720x720 with 2 Axes>"
      ]
     },
     "metadata": {
      "needs_background": "light"
     },
     "output_type": "display_data"
    }
   ],
   "source": [
    "y_train_pred = model.predict((X_train_CNN, X_train_Dense))\n",
    "_y_train_pred = np.copy(y_train_pred)\n",
    "_pred_one = np.where(_y_train_pred >= 0.9)\n",
    "_pred_zero = np.where(_y_train_pred < 0.9)\n",
    "\n",
    "_y_train_pred[_pred_one] = 1.0\n",
    "_y_train_pred[_pred_zero] = 0.0\n",
    "\n",
    "plt.figure(figsize=(10, 10))\n",
    "cm = sklearn.metrics.confusion_matrix(y_train, _y_train_pred)\n",
    "print(f'total: {np.sum(cm)}')\n",
    "cm = cm / np.sum(cm)\n",
    "print(cm)\n",
    "sns.heatmap(cm, annot=True, annot_kws={'fontsize': 'xx-large'})\n",
    "fname = os.path.join(run_logdir, 'confusion_matrix_train.svg')\n",
    "plt.title('Confusion matrix - train dataset')\n",
    "plt.xlabel('Predictions')\n",
    "plt.ylabel('Actual')\n",
    "plt.savefig(fname, format='svg')\n",
    "plt.show()"
   ]
  },
  {
   "cell_type": "code",
   "execution_count": 49,
   "id": "featured-architecture",
   "metadata": {},
   "outputs": [
    {
     "name": "stdout",
     "output_type": "stream",
     "text": [
      "total: 128616\n",
      "[[0.91416309 0.02359738]\n",
      " [0.04722585 0.01501368]]\n"
     ]
    },
    {
     "data": {
      "image/png": "[encoded data removed]",
      "text/plain": [
       "<Figure size 720x720 with 2 Axes>"
      ]
     },
     "metadata": {
      "needs_background": "light"
     },
     "output_type": "display_data"
    }
   ],
   "source": [
    "y_valid_pred = model.predict((X_valid_CNN, X_valid_Dense))\n",
    "_y_valid_pred = np.copy(y_valid_pred)\n",
    "_pred_one = np.where(_y_valid_pred >= 0.9)\n",
    "_pred_zero = np.where(_y_valid_pred < 0.9)\n",
    "\n",
    "_y_valid_pred[_pred_one] = 1.0\n",
    "_y_valid_pred[_pred_zero] = 0.0\n",
    "\n",
    "plt.figure(figsize=(10, 10))\n",
    "cm = sklearn.metrics.confusion_matrix(y_valid, _y_valid_pred)\n",
    "print(f'total: {np.sum(cm)}')\n",
    "cm = cm / np.sum(cm)\n",
    "print(cm)\n",
    "sns.heatmap(cm, annot=True, annot_kws={'fontsize': 'xx-large'})\n",
    "fname = os.path.join(run_logdir, 'confusion_matrix_valid.svg')\n",
    "plt.title('Confusion matrix - valid dataset')\n",
    "plt.xlabel('Predictions')\n",
    "plt.ylabel('Actual')\n",
    "plt.savefig(fname, format='svg')\n",
    "plt.show()"
   ]
  },
  {
   "cell_type": "markdown",
   "id": "intended-trace",
   "metadata": {},
   "source": [
    "## Classification reports"
   ]
  },
  {
   "cell_type": "code",
   "execution_count": 50,
   "id": "changing-commissioner",
   "metadata": {},
   "outputs": [
    {
     "name": "stdout",
     "output_type": "stream",
     "text": [
      "Test dataset\n",
      "              precision    recall  f1-score   support\n",
      "\n",
      "           0       0.95      0.99      0.97     60709\n",
      "           1       0.39      0.08      0.14      3756\n",
      "\n",
      "    accuracy                           0.94     64465\n",
      "   macro avg       0.67      0.54      0.55     64465\n",
      "weighted avg       0.91      0.94      0.92     64465\n",
      "\n"
     ]
    }
   ],
   "source": [
    "report = sklearn.metrics.classification_report(y_test, _y_pred)\n",
    "print('Test dataset')\n",
    "print(report)\n",
    "with open(os.path.join(run_logdir, 'classification_report_test.txt'), 'w') as cr_file:\n",
    "    cr_file.writelines(report)"
   ]
  },
  {
   "cell_type": "code",
   "execution_count": 51,
   "id": "twenty-clerk",
   "metadata": {},
   "outputs": [
    {
     "name": "stdout",
     "output_type": "stream",
     "text": [
      "Train dataset\n",
      "              precision    recall  f1-score   support\n",
      "\n",
      "           0       0.99      0.99      0.99    422023\n",
      "           1       0.79      0.89      0.83     20987\n",
      "\n",
      "    accuracy                           0.98    443010\n",
      "   macro avg       0.89      0.94      0.91    443010\n",
      "weighted avg       0.98      0.98      0.98    443010\n",
      "\n"
     ]
    }
   ],
   "source": [
    "report = sklearn.metrics.classification_report(y_train, _y_train_pred)\n",
    "print('Train dataset')\n",
    "print(report)\n",
    "with open(os.path.join(run_logdir, 'classification_report_test_train.txt'), 'w') as cr_file:\n",
    "    cr_file.writelines(report)"
   ]
  },
  {
   "cell_type": "code",
   "execution_count": 52,
   "id": "upset-aggregate",
   "metadata": {},
   "outputs": [
    {
     "name": "stdout",
     "output_type": "stream",
     "text": [
      "Valid dataset\n",
      "              precision    recall  f1-score   support\n",
      "\n",
      "           0       0.95      0.97      0.96    120611\n",
      "           1       0.39      0.24      0.30      8005\n",
      "\n",
      "    accuracy                           0.93    128616\n",
      "   macro avg       0.67      0.61      0.63    128616\n",
      "weighted avg       0.92      0.93      0.92    128616\n",
      "\n"
     ]
    }
   ],
   "source": [
    "report = sklearn.metrics.classification_report(y_valid, _y_valid_pred)\n",
    "print('Valid dataset')\n",
    "print(report)\n",
    "with open(os.path.join(run_logdir, 'classification_report_test_valid.txt'), 'w') as cr_file:\n",
    "    cr_file.writelines(report)"
   ]
  },
  {
   "cell_type": "markdown",
   "id": "greenhouse-serbia",
   "metadata": {},
   "source": [
    "## ROC curve"
   ]
  },
  {
   "cell_type": "code",
   "execution_count": 53,
   "id": "legislative-edition",
   "metadata": {},
   "outputs": [],
   "source": [
    "def plot_roc(name, labels, predictions, **kwargs):\n",
    "    fp, tp, _ = sklearn.metrics.roc_curve(labels, predictions)\n",
    "\n",
    "    plt.plot(100*fp, 100*tp, label=name, linewidth=2, **kwargs)\n",
    "    plt.xlabel('False positives rate (1-Specificity) [%]')\n",
    "    plt.ylabel('True positives rate (Sensitivity) [%]')\n",
    "    plt.grid(True)\n",
    "    ax = plt.gca()\n",
    "    ax.set_aspect('equal')"
   ]
  },
  {
   "cell_type": "code",
   "execution_count": 54,
   "id": "homeless-circulation",
   "metadata": {},
   "outputs": [
    {
     "data": {
      "image/png": "[encoded data removed]",
      "text/plain": [
       "<Figure size 720x720 with 1 Axes>"
      ]
     },
     "metadata": {
      "needs_background": "light"
     },
     "output_type": "display_data"
    }
   ],
   "source": [
    "plt.figure(figsize=(10,10))\n",
    "plot_roc(\"Test Model\", y_test, y_pred, linestyle='--')\n",
    "plot_roc(\"Train Model\", y_train, y_train_pred, linestyle='--')\n",
    "plot_roc(\"Valid Model\", y_valid, y_valid_pred, linestyle='--')\n",
    "plt.plot([0, 100], [0, 100], '-.', c='black')\n",
    "plt.legend(loc='lower right')\n",
    "fname = os.path.join(run_logdir, 'roc_curve_all.svg')\n",
    "plt.title('ROC curve - all dataset')\n",
    "plt.savefig(fname, format='svg')\n",
    "plt.show()"
   ]
  },
  {
   "cell_type": "markdown",
   "id": "ambient-convention",
   "metadata": {},
   "source": [
    "## PRC - curve"
   ]
  },
  {
   "cell_type": "code",
   "execution_count": 55,
   "id": "subsequent-ideal",
   "metadata": {},
   "outputs": [
    {
     "data": {
      "image/png": "[encoded data removed]",
      "text/plain": [
       "<Figure size 720x720 with 1 Axes>"
      ]
     },
     "metadata": {
      "needs_background": "light"
     },
     "output_type": "display_data"
    }
   ],
   "source": [
    "def plot_prc(name, labels, predictions, **kwargs):\n",
    "    precision, recall, _ = sklearn.metrics.precision_recall_curve(labels, predictions)\n",
    "\n",
    "    plt.plot(precision, recall, label=name, linewidth=2, **kwargs)\n",
    "    plt.xlabel('Recall')\n",
    "    plt.ylabel('Precision')\n",
    "    plt.grid(True)\n",
    "    ax = plt.gca()\n",
    "    ax.set_aspect('equal')\n",
    "    \n",
    "\n",
    "plt.figure(figsize=(10,10))\n",
    "plot_prc(\"Test Model\", y_test, y_pred, linestyle='--')\n",
    "plot_prc(\"Train Model\", y_train, y_train_pred, linestyle='--')\n",
    "plot_prc(\"Valid Model\", y_valid, y_valid_pred, linestyle='--')\n",
    "plt.legend(loc='lower right')\n",
    "plt.title('Precision - Recall Curve')\n",
    "fname = os.path.join(run_logdir, 'prc_curve.svg')\n",
    "plt.savefig(fname, format='svg')\n",
    "plt.show()"
   ]
  },
  {
   "cell_type": "markdown",
   "id": "elegant-viewer",
   "metadata": {},
   "source": [
    "# Saving the model"
   ]
  },
  {
   "cell_type": "code",
   "execution_count": 100,
   "id": "indirect-parking",
   "metadata": {
    "scrolled": true
   },
   "outputs": [],
   "source": [
    "experiment_run_id = run_logdir.split(sep='/')[-1]\n",
    "model.save(os.path.join(run_logdir, f'trained_model-{experiment_run_id}'))\n",
    "copyfile('entry_model-categorical_rework.ipynb', os.path.join(run_logdir, 'entry_model-categorical_rework.ipynb'))"
   ]
  }
 ],
 "metadata": {
  "interpreter": {
   "hash": "b28027f52ea47bbce44460a49f3ed1fc7cc273a100fcd8a67bd69f45d801e13a"
  },
  "kernelspec": {
   "display_name": "Python 3",
   "language": "python",
   "name": "python3"
  },
  "language_info": {
   "codemirror_mode": {
    "name": "ipython",
    "version": 3
   },
   "file_extension": ".py",
   "mimetype": "text/x-python",
   "name": "python",
   "nbconvert_exporter": "python",
   "pygments_lexer": "ipython3",
   "version": "3.8.8"
  }
 },
 "nbformat": 4,
 "nbformat_minor": 5
}