{
 "cells": [
  {
   "cell_type": "code",
   "execution_count": 1,
   "metadata": {},
   "outputs": [],
   "source": [
    "import pandas as pd\n",
    "import numpy as np\n",
    "import os\n",
    "import shutil\n",
    "import re"
   ]
  },
  {
   "source": [
    "# Description\n",
    "This notebook was used to preprocess data from Ducascopy generated files into the common format with some extra features and preprocessing"
   ],
   "cell_type": "markdown",
   "metadata": {}
  },
  {
   "cell_type": "code",
   "execution_count": 4,
   "metadata": {},
   "outputs": [],
   "source": [
    "def copy_dataset(src_dir: str, dst_dir: str):\n",
    "    files = os.listdir(src_dir)\n",
    "    for file in files:\n",
    "        matches = re.findall(\"AAPL\\.USUSD_Candlestick_10_s_ASK_([\\d]{2})\\.([\\d]{2})\\.([\\d]{4})-[\\d]{2}\\.[\\d]{2}\\.[\\d]{4}\\.csv\", file)\n",
    "        try:\n",
    "            day, month, year = matches[0][0], matches[0][1], matches[0][2]\n",
    "            df = pd.read_csv(os.path.join(src_dir, file))\n",
    "            df['avg_price_in_interval'] = (df['High'] + df['Low'])/2\n",
    "            df.to_csv(os.path.join(dst_dir, f'{year}_{month}_{day}.csv'))\n",
    "        except Exception as err:\n",
    "            print(err)"
   ]
  },
  {
   "cell_type": "code",
   "execution_count": 5,
   "metadata": {},
   "outputs": [],
   "source": [
    "copy_dataset('<location to ducascopy data>', '<directory where you want to save the result>')"
   ]
  },
  {
   "cell_type": "code",
   "execution_count": 22,
   "metadata": {},
   "outputs": [],
   "source": [
    "def create_dataset(dir: str):\n",
    "    files = os.listdir(dir)\n",
    "    files.sort()\n",
    "    df: pd.DataFrame\n",
    "    cnt = 1\n",
    "    for _file in files:\n",
    "        if cnt == 1:\n",
    "            df = pd.read_csv(os.path.join(dir, _file), index_col='Gmt time')\n",
    "        else:\n",
    "            df = df.append(pd.read_csv(os.path.join(dir, _file), index_col='Gmt time'))\n",
    "        cnt += 1\n",
    "    return df"
   ]
  }
 ],
 "metadata": {
  "kernelspec": {
   "display_name": "Python 3",
   "language": "python",
   "name": "python3"
  },
  "language_info": {
   "codemirror_mode": {
    "name": "ipython",
    "version": 3
   },
   "file_extension": ".py",
   "mimetype": "text/x-python",
   "name": "python",
   "nbconvert_exporter": "python",
   "pygments_lexer": "ipython3",
   "version": "3.8.8"
  }
 },
 "nbformat": 4,
 "nbformat_minor": 2
}