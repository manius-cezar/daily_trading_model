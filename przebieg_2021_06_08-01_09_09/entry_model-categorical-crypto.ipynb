{
 "cells": [
  {
   "cell_type": "code",
   "execution_count": 1,
   "id": "black-leonard",
   "metadata": {},
   "outputs": [],
   "source": [
    "import os, sys\n",
    "import sklearn\n",
    "from sklearn.preprocessing import MinMaxScaler\n",
    "from sklearn.preprocessing import StandardScaler\n",
    "from sklearn.model_selection import StratifiedShuffleSplit\n",
    "from sklearn.linear_model import LinearRegression\n",
    "import tensorflow as tf\n",
    "from tensorflow import keras\n",
    "import numpy as np\n",
    "import matplotlib as mpl\n",
    "import matplotlib.pyplot as plt\n",
    "import json\n",
    "import pandas as pd\n",
    "from sklearn import preprocessing\n",
    "from sklearn.model_selection import train_test_split\n",
    "from shutil import copyfile\n",
    "import seaborn as sns\n",
    "import json\n",
    "\n",
    "mpl.rc('axes', labelsize=14)\n",
    "mpl.rc('xtick', labelsize=12)\n",
    "mpl.rc('ytick', labelsize=12)\n",
    "plt.rcParams[\"figure.figsize\"] = (20,3)\n",
    "\n",
    "np.random.seed(42)\n",
    "tf.random.set_seed(42)\n",
    "\n",
    "# Below code is for enabling only particular GPU cards.\n",
    "# Testing machine contained in total 6 GPUs, but for training only 5 of them were used.\n",
    "# If your testing set contains less or one card, you need to change it accordingly.\n",
    "physical_devices = tf.config.list_physical_devices('GPU')\n",
    "tf.config.set_visible_devices([physical_devices[0]], 'GPU')"
   ]
  },
  {
   "cell_type": "code",
   "execution_count": 2,
   "id": "proof-michigan",
   "metadata": {},
   "outputs": [],
   "source": [
    "data_dir = '../data'"
   ]
  },
  {
   "cell_type": "code",
   "execution_count": 3,
   "id": "strong-foster",
   "metadata": {},
   "outputs": [],
   "source": [
    "historic_data_in_minibatch = 250"
   ]
  },
  {
   "cell_type": "code",
   "execution_count": 4,
   "id": "median-engineering",
   "metadata": {},
   "outputs": [
    {
     "data": {
      "text/plain": [
       "18"
      ]
     },
     "execution_count": 4,
     "metadata": {},
     "output_type": "execute_result"
    }
   ],
   "source": [
    "ema_lengths = [3, 5, 8, 9, 10, 13, 20, 21, 26, 34, 50, 55, 89, 100, 144, 200, 233, historic_data_in_minibatch]\n",
    "len(ema_lengths)"
   ]
  },
  {
   "cell_type": "markdown",
   "id": "latin-brass",
   "metadata": {},
   "source": [
    "# Data loading"
   ]
  },
  {
   "cell_type": "code",
   "execution_count": 5,
   "id": "alien-graduation",
   "metadata": {},
   "outputs": [],
   "source": [
    "# Loading data from already prepared datasets\n",
    "X_train, y_train = (\n",
    "    np.load(os.path.join(data_dir, 'X_train_shuffled_crypto_with_mean_model.npz')), \n",
    "    np.load(os.path.join(data_dir, 'y_train_shuffled_crypto_with_mean_model.npz')))\n",
    "X_train, y_train = X_train['arr_0'], y_train['arr_0']\n",
    "\n",
    "X_valid, y_valid = (\n",
    "    np.load(os.path.join(data_dir, 'X_valid_shuffled_crypto_with_mean_model.npz')), \n",
    "    np.load(os.path.join(data_dir, 'y_valid_shuffled_crypto_with_mean_model.npz')))\n",
    "X_valid, y_valid = X_valid['arr_0'], y_valid['arr_0']\n",
    "\n",
    "X_test, y_test = (\n",
    "    np.load(os.path.join(data_dir, 'X_test_shuffled_crypto_with_mean_model.npz')), \n",
    "    np.load(os.path.join(data_dir, 'y_test_shuffled_crypto_with_mean_model.npz')))\n",
    "X_test, y_test = X_test['arr_0'], y_test['arr_0']"
   ]
  },
  {
   "cell_type": "code",
   "execution_count": 7,
   "id": "fourth-lewis",
   "metadata": {},
   "outputs": [],
   "source": [
    "X_train = X_train.reshape((X_train.shape[0]), X_train.shape[1])\n",
    "X_test = X_test.reshape((X_test.shape[0]), X_test.shape[1])\n",
    "X_valid = X_valid.reshape((X_valid.shape[0]), X_valid.shape[1])"
   ]
  },
  {
   "cell_type": "markdown",
   "id": "legal-guitar",
   "metadata": {},
   "source": [
    "## Data scaling"
   ]
  },
  {
   "cell_type": "code",
   "execution_count": 8,
   "id": "major-deviation",
   "metadata": {},
   "outputs": [],
   "source": [
    "from pickle import dump\n",
    "\n",
    "scaler = StandardScaler()\n",
    "X_train = scaler.fit_transform(X_train)\n",
    "X_valid = scaler.transform(X_valid)\n",
    "X_test = scaler.transform(X_test)\n",
    "\n"
   ]
  },
  {
   "cell_type": "code",
   "execution_count": 9,
   "id": "mysterious-emergency",
   "metadata": {},
   "outputs": [],
   "source": [
    "X_train = X_train.reshape((X_train.shape[0]), X_train.shape[1], 1)\n",
    "X_test = X_test.reshape((X_test.shape[0]), X_test.shape[1], 1)\n",
    "X_valid = X_valid.reshape((X_valid.shape[0]), X_valid.shape[1], 1)"
   ]
  },
  {
   "cell_type": "code",
   "execution_count": 11,
   "id": "familiar-boutique",
   "metadata": {},
   "outputs": [],
   "source": [
    "features_number = X_train.shape[1]"
   ]
  },
  {
   "cell_type": "markdown",
   "id": "danish-soundtrack",
   "metadata": {},
   "source": [
    "### Split for two model inputs"
   ]
  },
  {
   "cell_type": "code",
   "execution_count": 12,
   "id": "consolidated-hands",
   "metadata": {},
   "outputs": [],
   "source": [
    "X_train_CNN, X_train_Dense = X_train[:, :historic_data_in_minibatch, :], X_train[:, historic_data_in_minibatch:, :] \n",
    "X_test_CNN, X_test_Dense = X_test[:, :historic_data_in_minibatch, :], X_test[:, historic_data_in_minibatch:, :] \n",
    "X_valid_CNN, X_valid_Dense = X_valid[:, :historic_data_in_minibatch, :], X_valid[:, historic_data_in_minibatch:, :] "
   ]
  },
  {
   "cell_type": "code",
   "execution_count": 15,
   "id": "interested-lecture",
   "metadata": {},
   "outputs": [
    {
     "data": {
      "text/plain": [
       "(1148002, 327662, 164870)"
      ]
     },
     "execution_count": 15,
     "metadata": {},
     "output_type": "execute_result"
    }
   ],
   "source": [
    "len(y_train), len(y_valid), len(y_test)"
   ]
  },
  {
   "cell_type": "markdown",
   "id": "collect-breakdown",
   "metadata": {},
   "source": [
    "# y categorization"
   ]
  },
  {
   "cell_type": "code",
   "execution_count": 17,
   "id": "interesting-pickup",
   "metadata": {},
   "outputs": [
    {
     "name": "stdout",
     "output_type": "stream",
     "text": [
      "Positive %: 0.04093721091078239\n",
      "Negative %: 0.9590627890892176\n"
     ]
    }
   ],
   "source": [
    "one_ids = np.where(y_train >= 0.9)\n",
    "zero_ids = np.where(y_train < 0.9)\n",
    "\n",
    "y_train[one_ids[0], one_ids[1]] = 1\n",
    "y_train[zero_ids[0], zero_ids[1]] = 0\n",
    "\n",
    "ones, zeroes = len(one_ids[0]), len(zero_ids[0])\n",
    "print(f'Positive %: {ones / (ones + zeroes)}')\n",
    "print(f'Negative %: {1 - (ones / (ones + zeroes))}')\n",
    "\n",
    "y_train = y_train.astype(np.int)"
   ]
  },
  {
   "cell_type": "code",
   "execution_count": 18,
   "id": "romance-sheep",
   "metadata": {},
   "outputs": [
    {
     "name": "stdout",
     "output_type": "stream",
     "text": [
      "Positive %: 0.04011756016871044\n",
      "Negative %: 0.9598824398312895\n"
     ]
    }
   ],
   "source": [
    "one_ids = np.where(y_valid >= 0.9)\n",
    "zero_ids = np.where(y_valid < 0.9)\n",
    "\n",
    "y_valid[one_ids[0], one_ids[1]] = 1\n",
    "y_valid[zero_ids[0], zero_ids[1]] = 0\n",
    "\n",
    "ones, zeroes = len(one_ids[0]), len(zero_ids[0])\n",
    "print(f'Positive %: {ones / (ones + zeroes)}')\n",
    "print(f'Negative %: {1 - (ones / (ones + zeroes))}')\n",
    "\n",
    "y_valid = y_valid.astype(np.int)"
   ]
  },
  {
   "cell_type": "code",
   "execution_count": 19,
   "id": "impressive-feeding",
   "metadata": {},
   "outputs": [
    {
     "name": "stdout",
     "output_type": "stream",
     "text": [
      "Positive %: 0.047182628737793414\n",
      "Negative %: 0.9528173712622066\n"
     ]
    }
   ],
   "source": [
    "one_ids = np.where(y_test >= 0.9)\n",
    "zero_ids = np.where(y_test < 0.9)\n",
    "\n",
    "y_test[one_ids[0], one_ids[1]] = 1\n",
    "y_test[zero_ids[0], zero_ids[1]] = 0\n",
    "\n",
    "ones, zeroes = len(one_ids[0]), len(zero_ids[0])\n",
    "print(f'Positive %: {ones / (ones + zeroes)}')\n",
    "print(f'Negative %: {1 - (ones / (ones + zeroes))}')\n",
    "\n",
    "y_test = y_test.astype(np.int)"
   ]
  },
  {
   "cell_type": "code",
   "execution_count": 20,
   "id": "qualified-timer",
   "metadata": {},
   "outputs": [
    {
     "name": "stdout",
     "output_type": "stream",
     "text": [
      "Positive %: 0.04140115352683943\n",
      "Negative %: 0.9585988464731605\n",
      "Label 0: 1572614\n",
      "Label 1: 67920\n"
     ]
    }
   ],
   "source": [
    "y_all = np.concatenate((y_train, y_valid, y_test))\n",
    "temp = np.copy(y_all)\n",
    "temp.shape\n",
    "\n",
    "one_ids = np.where(temp >= 0.9)\n",
    "zero_ids = np.where(temp < 0.9)\n",
    "\n",
    "temp[one_ids[0], one_ids[1]] = 1\n",
    "temp[zero_ids[0], zero_ids[1]] = 0\n",
    "\n",
    "ones, zeroes = len(one_ids[0]), len(zero_ids[0])\n",
    "print(f'Positive %: {ones / (ones + zeroes)}')\n",
    "print(f'Negative %: {1 - (ones / (ones + zeroes))}')\n",
    "\n",
    "unique, counts = np.unique(y_all, return_counts=True)\n",
    "for val, qty in zip(unique, counts):\n",
    "    print(f'Label {val}: {qty}')"
   ]
  },
  {
   "cell_type": "code",
   "execution_count": 21,
   "id": "moral-cathedral",
   "metadata": {},
   "outputs": [
    {
     "data": {
      "text/plain": [
       "(1101006, 46996, 1148002)"
      ]
     },
     "execution_count": 21,
     "metadata": {},
     "output_type": "execute_result"
    }
   ],
   "source": [
    "neg, pos = np.unique(y_train, return_counts=True)[1]\n",
    "total = neg + pos\n",
    "neg, pos, total"
   ]
  },
  {
   "cell_type": "code",
   "execution_count": 22,
   "id": "bridal-throat",
   "metadata": {},
   "outputs": [
    {
     "name": "stdout",
     "output_type": "stream",
     "text": [
      "Weight for class 0: 0.52\n",
      "Weight for class 1: 12.21\n"
     ]
    }
   ],
   "source": [
    "weight_for_0 = (1 / neg)*(total)/2.0 \n",
    "weight_for_1 = (1 / pos)*(total)/2.0\n",
    "\n",
    "class_weight = {0: weight_for_0, 1: weight_for_1}\n",
    "\n",
    "print('Weight for class 0: {:.2f}'.format(weight_for_0))\n",
    "print('Weight for class 1: {:.2f}'.format(weight_for_1))\n",
    "\n",
    "class_weight = {0: weight_for_0, 1: weight_for_1}"
   ]
  },
  {
   "cell_type": "markdown",
   "id": "binary-elder",
   "metadata": {},
   "source": [
    "### Under-sampling majority class\n",
    "Sample code for dataset undersampling do balance it a little bit. After the tests, in this case it didn't bring any improvement for model training, so was commented out."
   ]
  },
  {
   "cell_type": "code",
   "execution_count": 2,
   "id": "conceptual-purse",
   "metadata": {},
   "outputs": [],
   "source": [
    "# majority_ids = np.where(y_train == 0)[0]\n",
    "# minority_ids = np.where(y_train == 1)[0]\n",
    "# len(majority_ids), len(minority_ids)"
   ]
  },
  {
   "cell_type": "code",
   "execution_count": 3,
   "id": "rocky-bargain",
   "metadata": {},
   "outputs": [],
   "source": [
    "# minority_y_train = y_train[minority_ids]\n",
    "# len(minority_y_train), minority_y_train.shape"
   ]
  },
  {
   "cell_type": "code",
   "execution_count": 4,
   "id": "possible-fantasy",
   "metadata": {},
   "outputs": [],
   "source": [
    "# minority_X_train_CNN = X_train_CNN[minority_ids]\n",
    "# minority_X_train_Dense = X_train_Dense[minority_ids]"
   ]
  },
  {
   "cell_type": "code",
   "execution_count": 31,
   "id": "above-encounter",
   "metadata": {},
   "outputs": [],
   "source": [
    "# chosen_majority_ids = np.random.choice(majority_ids, int(len(majority_ids)*0.5))"
   ]
  },
  {
   "cell_type": "code",
   "execution_count": 5,
   "id": "premium-jackson",
   "metadata": {},
   "outputs": [],
   "source": [
    "# majority_y_train = y_train[chosen_majority_ids]\n",
    "# np.unique(majority_y_train, return_counts=True)"
   ]
  },
  {
   "cell_type": "code",
   "execution_count": 6,
   "id": "embedded-keeping",
   "metadata": {},
   "outputs": [],
   "source": [
    "# majority_X_train_CNN = X_train_CNN[chosen_majority_ids]\n",
    "# majority_X_train_Dense = X_train_Dense[chosen_majority_ids]"
   ]
  },
  {
   "cell_type": "code",
   "execution_count": 7,
   "id": "noble-street",
   "metadata": {},
   "outputs": [],
   "source": [
    "# new_X_train_CNN = np.concatenate((majority_X_train_CNN, minority_X_train_CNN))\n",
    "# new_X_train_Dense = np.concatenate((majority_X_train_Dense, minority_X_train_Dense))\n",
    "# new_y_train = np.concatenate((majority_y_train, minority_y_train))\n",
    "\n",
    "# new_X_train_CNN.shape, new_X_train_Dense.shape, new_y_train.shape"
   ]
  },
  {
   "cell_type": "code",
   "execution_count": 8,
   "id": "collected-offer",
   "metadata": {},
   "outputs": [],
   "source": [
    "# counts = np.unique(new_y_train, return_counts=True)[1]\n",
    "# counts[1]/counts[0]"
   ]
  },
  {
   "cell_type": "code",
   "execution_count": 36,
   "id": "hybrid-thanksgiving",
   "metadata": {},
   "outputs": [],
   "source": [
    "# X_train_CNN, X_train_Dense, y_train = new_X_train_CNN, new_X_train_Dense, new_y_train"
   ]
  },
  {
   "cell_type": "code",
   "execution_count": 9,
   "id": "filled-reverse",
   "metadata": {},
   "outputs": [],
   "source": [
    "# _temp = y_train.reshape((-1,))\n",
    "# weights = sklearn.utils.class_weight.compute_class_weight('balanced', classes=np.unique(_temp), y=_temp)\n",
    "# weights"
   ]
  },
  {
   "cell_type": "code",
   "execution_count": 38,
   "id": "accessory-carbon",
   "metadata": {},
   "outputs": [],
   "source": [
    "# class_weight = {0: weights[0], 1: weights[1]}"
   ]
  },
  {
   "cell_type": "markdown",
   "id": "sixth-basis",
   "metadata": {},
   "source": [
    "### DS oversampling\n",
    "Sample code for dataset oversampling do balance it a little bit. After the tests, in this case it didn't bring any improvement for model training, so was commented out."
   ]
  },
  {
   "cell_type": "code",
   "execution_count": 23,
   "id": "opposite-semiconductor",
   "metadata": {},
   "outputs": [],
   "source": [
    "# np.random.seed(42)"
   ]
  },
  {
   "cell_type": "code",
   "execution_count": 10,
   "id": "photographic-faith",
   "metadata": {},
   "outputs": [],
   "source": [
    "# bool_train_labels = y_train != 0\n",
    "# bool_train_labels.shape"
   ]
  },
  {
   "cell_type": "code",
   "execution_count": 11,
   "id": "analyzed-relay",
   "metadata": {},
   "outputs": [],
   "source": [
    "# bool_train_labels = bool_train_labels.reshape((-1,))\n",
    "# bool_train_labels.shape"
   ]
  },
  {
   "cell_type": "code",
   "execution_count": 26,
   "id": "patent-latter",
   "metadata": {},
   "outputs": [],
   "source": [
    "# pos_features_CNN = X_train_CNN[bool_train_labels, :, :]\n",
    "# pos_features_Dense = X_train_Dense[bool_train_labels, :, :]\n",
    "# neg_features_CNN = X_train_CNN[~bool_train_labels, :, :]\n",
    "# neg_features_Dense = X_train_Dense[~bool_train_labels, :, :]\n",
    "\n",
    "# pos_labels = y_train[bool_train_labels]\n",
    "# neg_labels = y_train[~bool_train_labels]"
   ]
  },
  {
   "cell_type": "code",
   "execution_count": 12,
   "id": "white-begin",
   "metadata": {},
   "outputs": [],
   "source": [
    "# pos_features_CNN.shape, pos_features_Dense.shape, neg_features_CNN.shape, neg_features_Dense.shape, pos_labels.shape, neg_labels.shape"
   ]
  },
  {
   "cell_type": "code",
   "execution_count": 13,
   "id": "obvious-connecticut",
   "metadata": {},
   "outputs": [],
   "source": [
    "# ids = np.arange(len(pos_features_CNN))\n",
    "# choices = np.random.choice(ids, len(neg_labels))\n",
    "\n",
    "# res_pos_features_CNN = pos_features_CNN[choices]\n",
    "# res_pos_features_Dense = pos_features_Dense[choices]\n",
    "# res_pos_labels = pos_labels[choices]\n",
    "\n",
    "# res_pos_features_CNN.shape, res_pos_features_Dense.shape"
   ]
  },
  {
   "cell_type": "code",
   "execution_count": 14,
   "id": "quantitative-portfolio",
   "metadata": {},
   "outputs": [],
   "source": [
    "# resampled_features_CNN = np.concatenate([res_pos_features_CNN, neg_features_CNN], axis=0)\n",
    "# resampled_features_Dense = np.concatenate([res_pos_features_Dense, neg_features_Dense], axis=0)\n",
    "# resampled_labels = np.concatenate([res_pos_labels, neg_labels], axis=0)\n",
    "\n",
    "# order = np.arange(len(resampled_labels))\n",
    "# np.random.shuffle(order)\n",
    "# resampled_features_CNN = resampled_features_CNN[order]\n",
    "# resampled_features_Dense = resampled_features_Dense[order]\n",
    "# resampled_labels = resampled_labels[order]\n",
    "\n",
    "# resampled_features_CNN.shape, resampled_features_Dense.shape"
   ]
  },
  {
   "cell_type": "code",
   "execution_count": 15,
   "id": "annoying-index",
   "metadata": {},
   "outputs": [],
   "source": [
    "# np.unique(resampled_labels, return_counts=True)"
   ]
  },
  {
   "cell_type": "markdown",
   "id": "devoted-melbourne",
   "metadata": {},
   "source": [
    "# Classification Model"
   ]
  },
  {
   "cell_type": "markdown",
   "id": "rational-montreal",
   "metadata": {},
   "source": [
    "## TensorBoard config"
   ]
  },
  {
   "cell_type": "code",
   "execution_count": 68,
   "id": "statistical-finnish",
   "metadata": {},
   "outputs": [],
   "source": [
    "# Training of this model was initially done from different location,\n",
    "# and the actual tensorboard metrics can be found in directory `train` and `validation`\n",
    "# If you want to run your own training based on this notebook,\n",
    "# please create `my_dictionaries` directory on your own. \n",
    "# All TensorBoard metrics will be saved there.\n",
    "root_logdir = os.path.join(os.curdir, 'my_dictionaries')\n",
    "\n",
    "try:\n",
    "    tf.keras.backend.clear_session()\n",
    "except Exception as err:\n",
    "    print(err)\n",
    "\n",
    "def get_run_logdir():\n",
    "    import time\n",
    "    run_id = time.strftime('przebieg_%Y_%m_%d-%H_%M_%S')\n",
    "    return os.path.join(root_logdir, run_id)\n",
    "\n",
    "run_logdir = get_run_logdir()\n",
    "tensorboard_cb = keras.callbacks.TensorBoard(run_logdir)"
   ]
  },
  {
   "cell_type": "code",
   "execution_count": 1,
   "id": "accessory-depth",
   "metadata": {},
   "outputs": [],
   "source": [
    "try:\n",
    "    log.removeHandler(fh)\n",
    "except Exception as err:\n",
    "    print(\"Handler or log instance doesn't exists.\")\n",
    "else:\n",
    "    print(f'Handler {fh} removed correctly. All handlers:\\n{log.handlers}')"
   ]
  },
  {
   "cell_type": "code",
   "execution_count": 70,
   "id": "olive-adjustment",
   "metadata": {},
   "outputs": [],
   "source": [
    "import logging\n",
    "\n",
    "# get TF logger\n",
    "log = logging.getLogger('tensorflow')\n",
    "log.setLevel(logging.DEBUG)\n",
    "\n",
    "# create formatter and add it to the handlers\n",
    "formatter = logging.Formatter('%(asctime)s - %(name)s - %(levelname)s - %(message)s')\n",
    "\n",
    "# create file handler which logs even debug messages\n",
    "directory = os.path.join(run_logdir, 'tensorflow.log')\n",
    "os.makedirs(run_logdir, exist_ok=True)\n",
    "open(directory, 'w').close()\n",
    "fh = logging.FileHandler(directory)\n",
    "fh.setLevel(logging.DEBUG)\n",
    "fh.setFormatter(formatter)\n",
    "log.addHandler(fh)"
   ]
  },
  {
   "cell_type": "code",
   "execution_count": 16,
   "id": "naked-zoning",
   "metadata": {},
   "outputs": [],
   "source": [
    "train_datapoints = len(y_train)\n",
    "batch_size = 8000 * 5\n",
    "steps_per_epoch = int(train_datapoints / (batch_size))\n",
    "steps_per_epoch"
   ]
  },
  {
   "cell_type": "code",
   "execution_count": 72,
   "id": "quantitative-wesley",
   "metadata": {},
   "outputs": [],
   "source": [
    "config = {\n",
    "    'cnn_input_shape': [X_train_CNN.shape[1], 1],\n",
    "    'kernel_initializer': 'he_normal',\n",
    "    'statistical_input_shape': [X_train_Dense.shape[1], 1],\n",
    "    'statistical_dense1_neurons_qty': X_train_Dense.shape[1],\n",
    "    'batch_size': 8000,\n",
    "    'n': 80,\n",
    "    'm': 40,\n",
    "    'lr_in': 1e-3,\n",
    "    'lr_max': 0.03,\n",
    "    'lr_min': 1e-5,\n",
    "    'momentum_min': 0.8,\n",
    "    'momentum_max': 0.95\n",
    "}"
   ]
  },
  {
   "cell_type": "code",
   "execution_count": 73,
   "id": "short-irish",
   "metadata": {},
   "outputs": [],
   "source": [
    "import json\n",
    "\n",
    "with open(os.path.join(run_logdir, 'config.json'), 'w') as config_json:\n",
    "    json.dump(config, config_json)"
   ]
  },
  {
   "cell_type": "code",
   "execution_count": 45,
   "id": "geographic-present",
   "metadata": {},
   "outputs": [],
   "source": [
    "dump(scaler, open(os.path.join(run_logdir, 'input_scaler_with_ema_shuffled_crypto.pkl'), 'wb'))"
   ]
  },
  {
   "cell_type": "code",
   "execution_count": 74,
   "id": "selected-fantasy",
   "metadata": {},
   "outputs": [
    {
     "name": "stdout",
     "output_type": "stream",
     "text": [
      "INFO:tensorflow:Using 1cycle Learning Rate Scheduler\n"
     ]
    }
   ],
   "source": [
    "# 1cycle Learning Rate Scheduler\n",
    "log.info('Using 1cycle Learning Rate Scheduler')\n",
    "\n",
    "learning_rates = []\n",
    "\n",
    "_epochs1, _lrs1 = np.array([1, config['n']]).reshape((-1, 1)), np.array([config['lr_in'], config['lr_max']]).reshape((-1, 1))\n",
    "_epochs2, _lrs2 = np.array([config['n'], 2*config['n']]).reshape((-1, 1)), np.array([config['lr_max'], config['lr_in']]).reshape((-1, 1))\n",
    "_epochs3, _lrs3 = np.array([2*config['n'], 2*config['n'] + config['m']]).reshape((-1, 1)), np.array([config['lr_in'], config['lr_min']]).reshape((-1, 1))\n",
    "\n",
    "reg1 = LinearRegression().fit(_epochs1, _lrs1)\n",
    "reg2 = LinearRegression().fit(_epochs2, _lrs2)\n",
    "reg3 = LinearRegression().fit(_epochs3, _lrs3)\n",
    "\n",
    "def one_cycle_lr_scheduler(epoch, curr_lr):\n",
    "    epoch = epoch + 1\n",
    "    if epoch <= config['n']:\n",
    "        lr = reg1.predict(np.array([epoch]).reshape((-1,1)))[0][0]\n",
    "    elif epoch > config['n'] and epoch <= 2 * config['n']:\n",
    "        lr = reg2.predict(np.array([epoch]).reshape((-1,1)))[0][0]\n",
    "    else:\n",
    "        lr = reg3.predict(np.array([epoch]).reshape((-1,1)))[0][0]\n",
    "        \n",
    "    learning_rates.append(lr)\n",
    "    \n",
    "    log.info(f'New lr = {lr}, epoch = {epoch}')\n",
    "    return lr\n",
    "\n",
    "one_cycle_scheduler = tf.keras.callbacks.LearningRateScheduler(one_cycle_lr_scheduler)"
   ]
  },
  {
   "cell_type": "code",
   "execution_count": 75,
   "id": "mineral-metropolitan",
   "metadata": {},
   "outputs": [
    {
     "name": "stdout",
     "output_type": "stream",
     "text": [
      "INFO:tensorflow:Using 1cycle Momentum\n"
     ]
    }
   ],
   "source": [
    "# 1cycle Momentum adaptation\n",
    "log.info('Using 1cycle Momentum')\n",
    "\n",
    "momentum_rates = []\n",
    "\n",
    "_momentum_epochs1, _momentums1 = np.array([1, config['n']]).reshape((-1, 1)), np.array([config['momentum_max'], config['momentum_min']]).reshape((-1, 1))\n",
    "_momentum_epochs2, _momentums2 = np.array([config['n'], 2*config['n']]).reshape((-1, 1)), np.array([config['momentum_min'], config['momentum_max']]).reshape((-1, 1))\n",
    "\n",
    "momentum_reg1 = LinearRegression().fit(_momentum_epochs1, _momentums1)\n",
    "momentum_reg2 = LinearRegression().fit(_momentum_epochs2, _momentums2)\n",
    "\n",
    "\n",
    "class MomentumCallback(tf.keras.callbacks.Callback):\n",
    "    def on_epoch_begin(self, epoch, logs=None):\n",
    "        epoch = epoch + 1\n",
    "        print(f'Epoch: {epoch}')\n",
    "#         print(f'Current momentum: {self.model.optimizer.momentum}')\n",
    "        if epoch <= config['n']: \n",
    "            momentum = momentum_reg1.predict(np.array([epoch]).reshape((-1,1)))[0][0]\n",
    "        elif epoch > config['n'] and epoch <= 2 * config['n']:\n",
    "            momentum = momentum_reg2.predict(np.array([epoch]).reshape((-1,1)))[0][0]\n",
    "        else:\n",
    "            momentum = config['momentum_max']\n",
    "            \n",
    "        momentum_rates.append(momentum)\n",
    "        \n",
    "        self.model.optimizer.momentum = momentum\n",
    "        print(f'Updated momentum: {momentum}')\n"
   ]
  },
  {
   "cell_type": "code",
   "execution_count": 76,
   "id": "elder-stand",
   "metadata": {},
   "outputs": [],
   "source": [
    "# Callback for collecting learning rate value over the process of training\n",
    "custom_lrs = []\n",
    "\n",
    "class CustomCallback(tf.keras.callbacks.Callback):\n",
    "    def on_epoch_end(self, epoch, logs=None):\n",
    "        custom_lrs.append({'epoch': epoch, 'lr': self.model.optimizer._decayed_lr('float32').numpy()})\n",
    "        print(f\"Epoch {epoch}. Current lr = {self.model.optimizer._decayed_lr('float32').numpy()}\")"
   ]
  },
  {
   "cell_type": "code",
   "execution_count": 17,
   "id": "spectacular-approval",
   "metadata": {
    "scrolled": true
   },
   "outputs": [],
   "source": [
    "from importlib import import_module, reload\n",
    "from shutil import copyfile\n",
    "\n",
    "tf.keras.backend.clear_session()\n",
    "model_creation = import_module('model_creation_categorical_crypto')\n",
    "reload(model_creation)\n",
    "\n",
    "log.info('\\n\\nBuilding model:\\n')\n",
    "# The quantity of provided devices depends from number of GPUs in local system.\n",
    "devices=[\"/gpu:0\", \"/gpu:1\", \"/gpu:2\", \"/gpu:3\", \"/gpu:4\"]\n",
    "model = model_creation.build_model(config, devices=devices, cust_lr_scheduler=lr_schedule)\n",
    "\n",
    "copyfile('model_creation_categorical_crypto.py', os.path.join(run_logdir, 'model_creation_categorical_crypto.py'))"
   ]
  },
  {
   "cell_type": "code",
   "execution_count": 78,
   "id": "leading-newcastle",
   "metadata": {
    "scrolled": true
   },
   "outputs": [
    {
     "name": "stdout",
     "output_type": "stream",
     "text": [
      "Model: \"model\"\n",
      "__________________________________________________________________________________________________\n",
      "Layer (type)                    Output Shape         Param #     Connected to                     \n",
      "==================================================================================================\n",
      "input_1 (InputLayer)            [(None, 250, 1)]     0                                            \n",
      "__________________________________________________________________________________________________\n",
      "batch_normalization (BatchNorma (None, 250, 1)       4           input_1[0][0]                    \n",
      "__________________________________________________________________________________________________\n",
      "conv1d (Conv1D)                 (None, 250, 128)     5248        batch_normalization[0][0]        \n",
      "__________________________________________________________________________________________________\n",
      "max_pooling1d (MaxPooling1D)    (None, 125, 128)     0           conv1d[0][0]                     \n",
      "__________________________________________________________________________________________________\n",
      "dropout (Dropout)               (None, 125, 128)     0           max_pooling1d[0][0]              \n",
      "__________________________________________________________________________________________________\n",
      "batch_normalization_1 (BatchNor (None, 125, 128)     512         dropout[0][0]                    \n",
      "__________________________________________________________________________________________________\n",
      "conv1d_1 (Conv1D)               (None, 125, 64)      327744      batch_normalization_1[0][0]      \n",
      "__________________________________________________________________________________________________\n",
      "max_pooling1d_1 (MaxPooling1D)  (None, 62, 64)       0           conv1d_1[0][0]                   \n",
      "__________________________________________________________________________________________________\n",
      "dropout_1 (Dropout)             (None, 62, 64)       0           max_pooling1d_1[0][0]            \n",
      "__________________________________________________________________________________________________\n",
      "batch_normalization_2 (BatchNor (None, 62, 64)       256         dropout_1[0][0]                  \n",
      "__________________________________________________________________________________________________\n",
      "conv1d_2 (Conv1D)               (None, 62, 32)       81952       batch_normalization_2[0][0]      \n",
      "__________________________________________________________________________________________________\n",
      "max_pooling1d_2 (MaxPooling1D)  (None, 31, 32)       0           conv1d_2[0][0]                   \n",
      "__________________________________________________________________________________________________\n",
      "dropout_2 (Dropout)             (None, 31, 32)       0           max_pooling1d_2[0][0]            \n",
      "__________________________________________________________________________________________________\n",
      "batch_normalization_3 (BatchNor (None, 31, 32)       128         dropout_2[0][0]                  \n",
      "__________________________________________________________________________________________________\n",
      "conv1d_3 (Conv1D)               (None, 31, 16)       20496       batch_normalization_3[0][0]      \n",
      "__________________________________________________________________________________________________\n",
      "max_pooling1d_3 (MaxPooling1D)  (None, 15, 16)       0           conv1d_3[0][0]                   \n",
      "__________________________________________________________________________________________________\n",
      "dropout_3 (Dropout)             (None, 15, 16)       0           max_pooling1d_3[0][0]            \n",
      "__________________________________________________________________________________________________\n",
      "flatten (Flatten)               (None, 240)          0           dropout_3[0][0]                  \n",
      "__________________________________________________________________________________________________\n",
      "input_2 (InputLayer)            [(None, 26, 1)]      0                                            \n",
      "__________________________________________________________________________________________________\n",
      "dropout_4 (Dropout)             (None, 240)          0           flatten[0][0]                    \n",
      "__________________________________________________________________________________________________\n",
      "batch_normalization_7 (BatchNor (None, 26, 1)        4           input_2[0][0]                    \n",
      "__________________________________________________________________________________________________\n",
      "batch_normalization_4 (BatchNor (None, 240)          960         dropout_4[0][0]                  \n",
      "__________________________________________________________________________________________________\n",
      "dense_2 (Dense)                 (None, 26, 48)       96          batch_normalization_7[0][0]      \n",
      "__________________________________________________________________________________________________\n",
      "dense (Dense)                   (None, 64)           15424       batch_normalization_4[0][0]      \n",
      "__________________________________________________________________________________________________\n",
      "dropout_6 (Dropout)             (None, 26, 48)       0           dense_2[0][0]                    \n",
      "__________________________________________________________________________________________________\n",
      "dropout_5 (Dropout)             (None, 64)           0           dense[0][0]                      \n",
      "__________________________________________________________________________________________________\n",
      "batch_normalization_8 (BatchNor (None, 26, 48)       192         dropout_6[0][0]                  \n",
      "__________________________________________________________________________________________________\n",
      "batch_normalization_5 (BatchNor (None, 64)           256         dropout_5[0][0]                  \n",
      "__________________________________________________________________________________________________\n",
      "dense_3 (Dense)                 (None, 26, 32)       1568        batch_normalization_8[0][0]      \n",
      "__________________________________________________________________________________________________\n",
      "dense_1 (Dense)                 (None, 48)           3120        batch_normalization_5[0][0]      \n",
      "__________________________________________________________________________________________________\n",
      "dropout_7 (Dropout)             (None, 26, 32)       0           dense_3[0][0]                    \n",
      "__________________________________________________________________________________________________\n",
      "batch_normalization_6 (BatchNor (None, 48)           192         dense_1[0][0]                    \n",
      "__________________________________________________________________________________________________\n",
      "batch_normalization_9 (BatchNor (None, 26, 32)       128         dropout_7[0][0]                  \n",
      "__________________________________________________________________________________________________\n",
      "flatten_1 (Flatten)             (None, 48)           0           batch_normalization_6[0][0]      \n",
      "__________________________________________________________________________________________________\n",
      "flatten_2 (Flatten)             (None, 832)          0           batch_normalization_9[0][0]      \n",
      "__________________________________________________________________________________________________\n",
      "concatenate (Concatenate)       (None, 880)          0           flatten_1[0][0]                  \n",
      "                                                                 flatten_2[0][0]                  \n",
      "__________________________________________________________________________________________________\n",
      "batch_normalization_10 (BatchNo (None, 880)          3520        concatenate[0][0]                \n",
      "__________________________________________________________________________________________________\n",
      "dense_4 (Dense)                 (None, 64)           56384       batch_normalization_10[0][0]     \n",
      "__________________________________________________________________________________________________\n",
      "dropout_8 (Dropout)             (None, 64)           0           dense_4[0][0]                    \n",
      "__________________________________________________________________________________________________\n",
      "batch_normalization_11 (BatchNo (None, 64)           256         dropout_8[0][0]                  \n",
      "__________________________________________________________________________________________________\n",
      "dense_5 (Dense)                 (None, 32)           2080        batch_normalization_11[0][0]     \n",
      "__________________________________________________________________________________________________\n",
      "batch_normalization_12 (BatchNo (None, 32)           128         dense_5[0][0]                    \n",
      "__________________________________________________________________________________________________\n",
      "dense_6 (Dense)                 (None, 1)            33          batch_normalization_12[0][0]     \n",
      "==================================================================================================\n",
      "Total params: 520,681\n",
      "Trainable params: 517,413\n",
      "Non-trainable params: 3,268\n",
      "__________________________________________________________________________________________________\n"
     ]
    }
   ],
   "source": [
    "model.summary()"
   ]
  },
  {
   "cell_type": "markdown",
   "id": "brazilian-liquid",
   "metadata": {},
   "source": [
    "## Bias correction\n",
    "Initial bias correction is sometimes performed to adjust early loss value when training data on unbalanced DS. After the tests, in this case it didn't bring any improvement for model training, so was commented out."
   ]
  },
  {
   "cell_type": "code",
   "execution_count": 18,
   "id": "fantastic-fields",
   "metadata": {
    "scrolled": true
   },
   "outputs": [],
   "source": [
    "# model.predict((X_train_CNN[:10], X_train_Dense[:10]))"
   ]
  },
  {
   "cell_type": "code",
   "execution_count": 19,
   "id": "original-extraction",
   "metadata": {
    "scrolled": true
   },
   "outputs": [],
   "source": [
    "# results = model.evaluate((X_train_CNN, X_train_Dense), y_train, batch_size=config['batch_size'] * len(devices))\n",
    "# print(\"Loss: {:0.4f}\".format(results[0]))"
   ]
  },
  {
   "cell_type": "code",
   "execution_count": 20,
   "id": "verified-victorian",
   "metadata": {},
   "outputs": [],
   "source": [
    "# initial_bias = np.log([pos/neg])\n",
    "# initial_bias"
   ]
  },
  {
   "cell_type": "code",
   "execution_count": 21,
   "id": "incorporate-oxford",
   "metadata": {},
   "outputs": [],
   "source": [
    "# from importlib import import_module, reload\n",
    "# from shutil import copyfile\n",
    "\n",
    "# tf.keras.backend.clear_session()\n",
    "\n",
    "# model_creation = import_module('model_creation_categorical_testing')\n",
    "# reload(model_creation)\n",
    "\n",
    "# log.info('\\n\\nBuilding model:\\n')\n",
    "# devices=[\"/gpu:0\", \"/gpu:1\", \"/gpu:2\", \"/gpu:3\", \"/gpu:4\"]\n",
    "# # model = model_creation.build_model(config, devices=devices, cust_lr_scheduler=lr_schedule)\n",
    "# model = model_creation.build_model(config, devices=devices, output_bias=initial_bias)\n",
    "\n",
    "# copyfile('model_creation_categorical_testing.py', os.path.join(run_logdir, 'model_creation_categorical_testing.py'))"
   ]
  },
  {
   "cell_type": "code",
   "execution_count": 22,
   "id": "small-guard",
   "metadata": {},
   "outputs": [],
   "source": [
    "# pos/(total)"
   ]
  },
  {
   "cell_type": "code",
   "execution_count": 23,
   "id": "advance-skiing",
   "metadata": {
    "scrolled": true
   },
   "outputs": [],
   "source": [
    "# model.predict((X_train_CNN[:10], X_train_Dense[:10]))"
   ]
  },
  {
   "cell_type": "code",
   "execution_count": 24,
   "id": "floppy-feature",
   "metadata": {},
   "outputs": [],
   "source": [
    "# results = model.evaluate((X_train_CNN, X_train_Dense), y_train, batch_size=config['batch_size'] * len(devices))\n",
    "# print(\"Loss: {:0.4f}\".format(results[0]))"
   ]
  },
  {
   "source": [],
   "cell_type": "markdown",
   "metadata": {}
  },
  {
   "source": [],
   "cell_type": "markdown",
   "metadata": {}
  },
  {
   "source": [
    "# Model training\n",
    "All training and validation metrics can be found in tensorboard folders and visualized by tensorboard."
   ],
   "cell_type": "markdown",
   "metadata": {}
  },
  {
   "cell_type": "code",
   "execution_count": 25,
   "id": "mysterious-short",
   "metadata": {
    "scrolled": true
   },
   "outputs": [],
   "source": [
    "log.info('\\n\\nModel fitting:\\n\\n')\n",
    "history = model.fit(\n",
    "    (X_train_CNN, X_train_Dense), y_train, \n",
    "    epochs=220, \n",
    "    batch_size = config['batch_size'] * len(devices), \n",
    "    validation_data=((X_valid_CNN, X_valid_Dense), y_valid), \n",
    "    class_weight=class_weight,\n",
    "    callbacks=[\n",
    "        tensorboard_cb, \n",
    "        CustomCallback(), \n",
    "        one_cycle_scheduler, \n",
    "        MomentumCallback()\n",
    "    ]\n",
    ")"
   ]
  },
  {
   "cell_type": "code",
   "execution_count": 25,
   "id": "acoustic-nirvana",
   "metadata": {
    "scrolled": false
   },
   "outputs": [
    {
     "name": "stdout",
     "output_type": "stream",
     "text": [
      "5153/5153 [==============================] - 102s 20ms/step - loss: 0.4761 - tp: 1746.0000 - fp: 6629.0000 - tn: 150462.0000 - fn: 6033.0000 - binary_accuracy: 0.9232 - precision: 0.2085 - recall: 0.2245 - auc: 0.5911 - prc: 0.0977\n"
     ]
    },
    {
     "data": {
      "text/plain": [
       "{'loss': 0.47605234384536743,\n",
       " 'tp': 1746.0,\n",
       " 'fp': 6629.0,\n",
       " 'tn': 150462.0,\n",
       " 'fn': 6033.0,\n",
       " 'binary_accuracy': 0.9232000708580017,\n",
       " 'precision': 0.20847761631011963,\n",
       " 'recall': 0.22445043921470642,\n",
       " 'auc': 0.5911259651184082,\n",
       " 'prc': 0.09770732372999191}"
      ]
     },
     "execution_count": 25,
     "metadata": {},
     "output_type": "execute_result"
    }
   ],
   "source": [
    "eval_score = model.evaluate((X_test_CNN, X_test_Dense), y_test, return_dict=True)\n",
    "eval_score"
   ]
  },
  {
   "cell_type": "code",
   "execution_count": 94,
   "id": "eligible-macintosh",
   "metadata": {},
   "outputs": [],
   "source": [
    "with open(os.path.join(run_logdir, 'eval_score.json'), 'w') as eval_score_json:\n",
    "    json.dump(eval_score, eval_score_json)"
   ]
  },
  {
   "cell_type": "markdown",
   "id": "vocal-nation",
   "metadata": {},
   "source": [
    "## Learning on balanced DS\n",
    "In case when DS balancing was performed"
   ]
  },
  {
   "cell_type": "code",
   "execution_count": 26,
   "id": "cardiac-gilbert",
   "metadata": {},
   "outputs": [],
   "source": [
    "# resampled_steps_per_epoch = np.ceil(2.0*neg/(config['batch_size'] * len(devices)))\n",
    "# resampled_steps_per_epoch"
   ]
  },
  {
   "cell_type": "code",
   "execution_count": 27,
   "id": "portuguese-applicant",
   "metadata": {
    "scrolled": true
   },
   "outputs": [],
   "source": [
    "# log.info('\\n\\nModel fitting:\\n\\n')\n",
    "# history = model.fit(\n",
    "#     (resampled_features_CNN, resampled_features_Dense), resampled_labels, \n",
    "#     epochs=220, \n",
    "#     batch_size = config['batch_size'] * len(devices), \n",
    "#     steps_per_epoch=resampled_steps_per_epoch,\n",
    "#     validation_data=((X_valid_CNN, X_valid_Dense), y_valid), \n",
    "#     verbose=0,\n",
    "#     callbacks=[\n",
    "#         tensorboard_cb, \n",
    "#         CustomCallback(), \n",
    "#         one_cycle_scheduler, \n",
    "#         MomentumCallback()\n",
    "#     ]\n",
    "# )"
   ]
  },
  {
   "cell_type": "code",
   "execution_count": 28,
   "id": "impressed-weight",
   "metadata": {},
   "outputs": [],
   "source": [
    "# evaluate_res = model.evaluate((X_test_CNN, X_test_Dense), y_test, return_dict=True)\n",
    "# evaluate_res"
   ]
  },
  {
   "source": [],
   "cell_type": "markdown",
   "metadata": {}
  },
  {
   "source": [],
   "cell_type": "markdown",
   "metadata": {}
  },
  {
   "source": [
    "## Final learning rate overview during training process"
   ],
   "cell_type": "markdown",
   "metadata": {}
  },
  {
   "cell_type": "code",
   "execution_count": 149,
   "id": "banned-beatles",
   "metadata": {},
   "outputs": [
    {
     "data": {
      "image/png": "[encoded data removed]",
      "text/plain": [
       "<Figure size 360x360 with 2 Axes>"
      ]
     },
     "metadata": {
      "needs_background": "light"
     },
     "output_type": "display_data"
    }
   ],
   "source": [
    "def plot_learning_curves(loss, val_loss, binary_accuracy, val_binary_accuracy, save_res_dir: str = None):\n",
    "    plt.plot(np.arange(len(loss)) + 0.5, loss, \".-\", label=\"Training loss\")\n",
    "    plt.plot(np.arange(len(val_loss)) + 1, val_loss, \".-\", label=\"Validation loss\")\n",
    "    plt.plot(np.arange(len(binary_accuracy)) + 0.5, binary_accuracy, \".-\", label=\"Training binary_accuracy\")\n",
    "    plt.plot(np.arange(len(val_binary_accuracy)) + 1, val_binary_accuracy, \".-\", label=\"Validation binary_accuracy\")\n",
    "#     plt.plot(np.arange(len(binary_crossentropy)) + 0.5, binary_crossentropy, \".-\", label=\"Training binary_crossentropy\")\n",
    "#     plt.plot(np.arange(len(val_binary_crossentropy)) + 1, val_binary_crossentropy, \".-\", label=\"Validation binary_crossentropy\")\n",
    "    plt.gca().xaxis.set_major_locator(mpl.ticker.MaxNLocator(integer=True))\n",
    "    plt.axis([1, 220, 0, 1.0])\n",
    "    plt.legend(fontsize=14)\n",
    "    plt.xlabel(\"Epochs\")\n",
    "    plt.ylabel(\"Loss\")\n",
    "    plt.grid(True)\n",
    "    if save_res_dir is not None:\n",
    "        fname = os.path.join(save_res_dir, 'history.svg')\n",
    "        log.info(f'Saving learning history plot to {fname}')\n",
    "        plt.savefig(fname, format='svg')\n",
    "    plt.show()\n",
    "\n",
    "def plot_lr_momentum(lrs: list, momentums: list):\n",
    "    fig, axs = plt.subplots(2, 1, figsize=[5, 5])\n",
    "    axs[0].plot(np.array(history.epoch) + 1, lrs)\n",
    "    axs[0].grid()\n",
    "    axs[0].set_title('Learning rate')\n",
    "    axs[1].plot(np.array(history.epoch) + 1, momentums)\n",
    "    axs[1].set_title('Momentum')\n",
    "    axs[1].grid(True)\n",
    "    fig.tight_layout(pad=3.0)\n",
    "    fig.show()\n",
    "    \n",
    "plot_lr_momentum(learning_rates, momentum_rates)\n",
    "plt.plot(np.array(history.epoch) + 1, learning_rates)\n",
    "plt.grid()"
   ]
  },
  {
   "source": [
    "# Sample model metrics after training"
   ],
   "cell_type": "markdown",
   "metadata": {}
  },
  {
   "cell_type": "code",
   "execution_count": 96,
   "id": "known-exercise",
   "metadata": {
    "scrolled": true
   },
   "outputs": [
    {
     "name": "stdout",
     "output_type": "stream",
     "text": [
      "INFO:tensorflow:\n",
      "\n",
      "Predicted min, max range: (8.666842e-14, 0.9999448)\n",
      "\n"
     ]
    }
   ],
   "source": [
    "y_pred = model.predict((X_test_CNN, X_test_Dense))\n",
    "log.info(f'\\n\\nPredicted min, max range: {np.min(y_pred), np.max(y_pred)}\\n')"
   ]
  },
  {
   "cell_type": "code",
   "execution_count": 101,
   "id": "attached-upper",
   "metadata": {},
   "outputs": [],
   "source": [
    "# Applying treshold for classification probability\n",
    "_y_pred = np.copy(y_pred)\n",
    "_pred_one = np.where(_y_pred >= 0.9)\n",
    "_pred_zero = np.where(_y_pred < 0.9)\n",
    "\n",
    "_y_pred[_pred_one] = 1.0\n",
    "_y_pred[_pred_zero] = 0.0"
   ]
  },
  {
   "source": [
    "## Confusion matrixes"
   ],
   "cell_type": "markdown",
   "metadata": {}
  },
  {
   "cell_type": "code",
   "execution_count": 102,
   "id": "killing-interstate",
   "metadata": {
    "scrolled": false
   },
   "outputs": [
    {
     "name": "stdout",
     "output_type": "stream",
     "text": [
      "total: 164870\n",
      "[[0.91264633 0.04017104]\n",
      " [0.0365864  0.01059623]]\n"
     ]
    },
    {
     "data": {
      "image/png": "[encoded data removed]",
      "text/plain": [
       "<Figure size 720x720 with 2 Axes>"
      ]
     },
     "metadata": {
      "needs_background": "light"
     },
     "output_type": "display_data"
    }
   ],
   "source": [
    "plt.figure(figsize=(10, 10))\n",
    "cm = sklearn.metrics.confusion_matrix(y_test, _y_pred)\n",
    "print(f'total: {np.sum(cm)}')\n",
    "cm = cm / np.sum(cm)\n",
    "print(cm)\n",
    "sns.heatmap(cm, annot=True, annot_kws={'fontsize': 'xx-large'})\n",
    "fname = os.path.join(run_logdir, 'confusion_matrix_test.svg')\n",
    "plt.title('Confusion matrix - test dataset')\n",
    "plt.xlabel('Predictions')\n",
    "plt.ylabel('Actual')\n",
    "plt.savefig(fname, format='svg')\n",
    "plt.show()"
   ]
  },
  {
   "cell_type": "code",
   "execution_count": 103,
   "id": "entire-anthony",
   "metadata": {},
   "outputs": [
    {
     "name": "stdout",
     "output_type": "stream",
     "text": [
      "total: 1148002\n",
      "[[0.93344175 0.02562104]\n",
      " [0.01561583 0.02532138]]\n"
     ]
    },
    {
     "data": {
      "image/png": "[encoded data removed]",
      "text/plain": [
       "<Figure size 720x720 with 2 Axes>"
      ]
     },
     "metadata": {
      "needs_background": "light"
     },
     "output_type": "display_data"
    }
   ],
   "source": [
    "y_train_pred = model.predict((X_train_CNN, X_train_Dense))\n",
    "_y_train_pred = np.copy(y_train_pred)\n",
    "_pred_one = np.where(_y_train_pred >= 0.9)\n",
    "_pred_zero = np.where(_y_train_pred < 0.9)\n",
    "\n",
    "_y_train_pred[_pred_one] = 1.0\n",
    "_y_train_pred[_pred_zero] = 0.0\n",
    "\n",
    "plt.figure(figsize=(10, 10))\n",
    "cm = sklearn.metrics.confusion_matrix(y_train, _y_train_pred)\n",
    "print(f'total: {np.sum(cm)}')\n",
    "cm = cm / np.sum(cm)\n",
    "print(cm)\n",
    "sns.heatmap(cm, annot=True, annot_kws={'fontsize': 'xx-large'})\n",
    "fname = os.path.join(run_logdir, 'confusion_matrix_train.svg')\n",
    "plt.title('Confusion matrix - train dataset')\n",
    "plt.xlabel('Predictions')\n",
    "plt.ylabel('Actual')\n",
    "plt.savefig(fname, format='svg')\n",
    "plt.show()"
   ]
  },
  {
   "cell_type": "code",
   "execution_count": 104,
   "id": "featured-architecture",
   "metadata": {},
   "outputs": [
    {
     "name": "stdout",
     "output_type": "stream",
     "text": [
      "total: 327662\n",
      "[[0.9249501  0.03493234]\n",
      " [0.03033919 0.00977837]]\n"
     ]
    },
    {
     "data": {
      "image/png": "[encoded data removed]",
      "text/plain": [
       "<Figure size 720x720 with 2 Axes>"
      ]
     },
     "metadata": {
      "needs_background": "light"
     },
     "output_type": "display_data"
    }
   ],
   "source": [
    "y_valid_pred = model.predict((X_valid_CNN, X_valid_Dense))\n",
    "_y_valid_pred = np.copy(y_valid_pred)\n",
    "_pred_one = np.where(_y_valid_pred >= 0.9)\n",
    "_pred_zero = np.where(_y_valid_pred < 0.9)\n",
    "\n",
    "_y_valid_pred[_pred_one] = 1.0\n",
    "_y_valid_pred[_pred_zero] = 0.0\n",
    "\n",
    "plt.figure(figsize=(10, 10))\n",
    "cm = sklearn.metrics.confusion_matrix(y_valid, _y_valid_pred)\n",
    "print(f'total: {np.sum(cm)}')\n",
    "cm = cm / np.sum(cm)\n",
    "print(cm)\n",
    "sns.heatmap(cm, annot=True, annot_kws={'fontsize': 'xx-large'})\n",
    "fname = os.path.join(run_logdir, 'confusion_matrix_valid.svg')\n",
    "plt.title('Confusion matrix - valid dataset')\n",
    "plt.xlabel('Predictions')\n",
    "plt.ylabel('Actual')\n",
    "plt.savefig(fname, format='svg')\n",
    "plt.show()"
   ]
  },
  {
   "source": [
    "## Classification reports"
   ],
   "cell_type": "markdown",
   "metadata": {}
  },
  {
   "cell_type": "code",
   "execution_count": 105,
   "id": "changing-commissioner",
   "metadata": {},
   "outputs": [
    {
     "name": "stdout",
     "output_type": "stream",
     "text": [
      "Test dataset\n",
      "              precision    recall  f1-score   support\n",
      "\n",
      "           0       0.96      0.96      0.96    157091\n",
      "           1       0.21      0.22      0.22      7779\n",
      "\n",
      "    accuracy                           0.92    164870\n",
      "   macro avg       0.59      0.59      0.59    164870\n",
      "weighted avg       0.93      0.92      0.92    164870\n",
      "\n"
     ]
    }
   ],
   "source": [
    "report = sklearn.metrics.classification_report(y_test, _y_pred)\n",
    "print('Test dataset')\n",
    "print(report)\n",
    "with open(os.path.join(run_logdir, 'classification_report_test.txt'), 'w') as cr_file:\n",
    "    cr_file.writelines(report)"
   ]
  },
  {
   "cell_type": "code",
   "execution_count": 106,
   "id": "twenty-clerk",
   "metadata": {},
   "outputs": [
    {
     "name": "stdout",
     "output_type": "stream",
     "text": [
      "Train dataset\n",
      "              precision    recall  f1-score   support\n",
      "\n",
      "           0       0.98      0.97      0.98   1101006\n",
      "           1       0.50      0.62      0.55     46996\n",
      "\n",
      "    accuracy                           0.96   1148002\n",
      "   macro avg       0.74      0.80      0.76   1148002\n",
      "weighted avg       0.96      0.96      0.96   1148002\n",
      "\n"
     ]
    }
   ],
   "source": [
    "report = sklearn.metrics.classification_report(y_train, _y_train_pred)\n",
    "print('Train dataset')\n",
    "print(report)\n",
    "with open(os.path.join(run_logdir, 'classification_report_test_train.txt'), 'w') as cr_file:\n",
    "    cr_file.writelines(report)"
   ]
  },
  {
   "cell_type": "code",
   "execution_count": 107,
   "id": "upset-aggregate",
   "metadata": {},
   "outputs": [
    {
     "name": "stdout",
     "output_type": "stream",
     "text": [
      "Valid dataset\n",
      "              precision    recall  f1-score   support\n",
      "\n",
      "           0       0.97      0.96      0.97    314517\n",
      "           1       0.22      0.24      0.23     13145\n",
      "\n",
      "    accuracy                           0.93    327662\n",
      "   macro avg       0.59      0.60      0.60    327662\n",
      "weighted avg       0.94      0.93      0.94    327662\n",
      "\n"
     ]
    }
   ],
   "source": [
    "report = sklearn.metrics.classification_report(y_valid, _y_valid_pred)\n",
    "print('Valid dataset')\n",
    "print(report)\n",
    "with open(os.path.join(run_logdir, 'classification_report_test_valid.txt'), 'w') as cr_file:\n",
    "    cr_file.writelines(report)"
   ]
  },
  {
   "cell_type": "markdown",
   "id": "greenhouse-serbia",
   "metadata": {},
   "source": [
    "## ROC curve"
   ]
  },
  {
   "cell_type": "code",
   "execution_count": 108,
   "id": "fallen-battle",
   "metadata": {},
   "outputs": [],
   "source": [
    "def plot_roc(name, labels, predictions, **kwargs):\n",
    "    fp, tp, _ = sklearn.metrics.roc_curve(labels, predictions)\n",
    "\n",
    "    plt.plot(100*fp, 100*tp, label=name, linewidth=2, **kwargs)\n",
    "    plt.xlabel('False positives rate (1-Specificity) [%]')\n",
    "    plt.ylabel('True positives rate (Sensitivity) [%]')\n",
    "    plt.grid(True)\n",
    "    ax = plt.gca()\n",
    "    ax.set_aspect('equal')"
   ]
  },
  {
   "cell_type": "code",
   "execution_count": 109,
   "id": "homeless-circulation",
   "metadata": {},
   "outputs": [
    {
     "data": {
      "image/png": "[encoded data removed]",
      "text/plain": [
       "<Figure size 720x720 with 1 Axes>"
      ]
     },
     "metadata": {
      "needs_background": "light"
     },
     "output_type": "display_data"
    }
   ],
   "source": [
    "plt.figure(figsize=(10,10))\n",
    "plot_roc(\"Test Model\", y_test, y_pred, linestyle='--')\n",
    "plot_roc(\"Train Model\", y_train, y_train_pred, linestyle='--')\n",
    "plot_roc(\"Valid Model\", y_valid, y_valid_pred, linestyle='--')\n",
    "plt.plot([0, 100], [0, 100], '-.', c='black')\n",
    "plt.legend(loc='lower right')\n",
    "fname = os.path.join(run_logdir, 'roc_curve_all.svg')\n",
    "plt.title('ROC curve - all dataset')\n",
    "plt.savefig(fname, format='svg')\n",
    "plt.show()"
   ]
  },
  {
   "source": [
    "## PRC - curve"
   ],
   "cell_type": "markdown",
   "metadata": {}
  },
  {
   "cell_type": "code",
   "execution_count": 110,
   "id": "subsequent-ideal",
   "metadata": {},
   "outputs": [
    {
     "data": {
      "image/png": "[encoded data removed]",
      "text/plain": [
       "<Figure size 720x720 with 1 Axes>"
      ]
     },
     "metadata": {
      "needs_background": "light"
     },
     "output_type": "display_data"
    }
   ],
   "source": [
    "def plot_prc(name, labels, predictions, **kwargs):\n",
    "    precision, recall, _ = sklearn.metrics.precision_recall_curve(labels, predictions)\n",
    "\n",
    "    plt.plot(precision, recall, label=name, linewidth=2, **kwargs)\n",
    "    plt.xlabel('Recall')\n",
    "    plt.ylabel('Precision')\n",
    "    plt.grid(True)\n",
    "    ax = plt.gca()\n",
    "    ax.set_aspect('equal')\n",
    "    \n",
    "\n",
    "plt.figure(figsize=(10,10))\n",
    "plot_prc(\"Test Model\", y_test, y_pred, linestyle='--')\n",
    "plot_prc(\"Train Model\", y_train, y_train_pred, linestyle='--')\n",
    "plot_prc(\"Valid Model\", y_valid, y_valid_pred, linestyle='--')\n",
    "plt.legend(loc='lower right')\n",
    "plt.title('Precision - Recall Curve')\n",
    "fname = os.path.join(run_logdir, 'prc_curve.svg')\n",
    "plt.savefig(fname, format='svg')\n",
    "plt.show()"
   ]
  },
  {
   "source": [
    "# Saving the model"
   ],
   "cell_type": "markdown",
   "metadata": {}
  },
  {
   "cell_type": "code",
   "execution_count": 29,
   "id": "indirect-parking",
   "metadata": {
    "scrolled": true
   },
   "outputs": [],
   "source": [
    "experiment_run_id = run_logdir.split(sep='/')[-1]\n",
    "model.save(os.path.join(run_logdir, f'trained_model-{experiment_run_id}'))\n",
    "copyfile('entry_model-categorical-crypto.ipynb', os.path.join(run_logdir, 'entry_model-categorical-crypto.ipynb'))"
   ]
  }
 ],
 "metadata": {
  "kernelspec": {
   "name": "python3",
   "display_name": "Python 3.8.10 64-bit ('tf-gpu-cuda': conda)"
  },
  "language_info": {
   "codemirror_mode": {
    "name": "ipython",
    "version": 3
   },
   "file_extension": ".py",
   "mimetype": "text/x-python",
   "name": "python",
   "nbconvert_exporter": "python",
   "pygments_lexer": "ipython3",
   "version": "3.8.10"
  },
  "interpreter": {
   "hash": "b28027f52ea47bbce44460a49f3ed1fc7cc273a100fcd8a67bd69f45d801e13a"
  }
 },
 "nbformat": 4,
 "nbformat_minor": 5
}